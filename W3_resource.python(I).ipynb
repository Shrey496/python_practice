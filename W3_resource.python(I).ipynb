{
 "cells": [
  {
   "cell_type": "code",
   "execution_count": 27,
   "id": "5ec1ac50",
   "metadata": {},
   "outputs": [
    {
     "name": "stdout",
     "output_type": "stream",
     "text": [
      "Twinkle, twinkle, little star, \n",
      " \tHow I wonder what you are! \n",
      "\t\tUp above the world so high, \n",
      "\t\tLike a diamond in the sky. \n",
      "Twinkle, twinkle, little star, \n",
      "\tHow I wonder what you are\n"
     ]
    }
   ],
   "source": [
    "# Write a Python program to print the following string in a specific format (see the output).\n",
    "\n",
    "print(\"Twinkle, twinkle, little star, \\n \\tHow I wonder what you are! \\n\\t\\tUp above the world so high, \\n\\t\\tLike a diamond in the sky. \\nTwinkle, twinkle, little star, \\n\\tHow I wonder what you are\")"
   ]
  },
  {
   "cell_type": "code",
   "execution_count": 28,
   "id": "d750fa9a",
   "metadata": {},
   "outputs": [
    {
     "name": "stdout",
     "output_type": "stream",
     "text": [
      "3.10.9 (main, Mar  1 2023, 12:20:14) [Clang 14.0.6 ]\n"
     ]
    }
   ],
   "source": [
    "#2. Write a Python program to find out what version of Python you are using.\n",
    "import sys\n",
    "import platform\n",
    "print(sys.version)"
   ]
  },
  {
   "cell_type": "code",
   "execution_count": 30,
   "id": "be82eec6",
   "metadata": {},
   "outputs": [
    {
     "name": "stdout",
     "output_type": "stream",
     "text": [
      "Current date and time: \n",
      "2023-05-13 18:44:50\n"
     ]
    }
   ],
   "source": [
    "#3. Write a Python program to display the current date and time.\n",
    "import datetime\n",
    "now = datetime.datetime.now()\n",
    "print(\"Current date and time: \")\n",
    "print(now.strftime(\"%Y-%m-%d %H:%M:%S\"))"
   ]
  },
  {
   "cell_type": "code",
   "execution_count": 32,
   "id": "b57ec5cd",
   "metadata": {},
   "outputs": [
    {
     "name": "stdout",
     "output_type": "stream",
     "text": [
      "Current date and time: \n",
      "2023-05-13 18:50:41.231725\n"
     ]
    }
   ],
   "source": [
    "import datetime\n",
    "\n",
    "e = datetime.datetime.now()\n",
    "\n",
    "print (\"Current date and time: \\n%s\" % e)"
   ]
  },
  {
   "cell_type": "code",
   "execution_count": 41,
   "id": "e8760534",
   "metadata": {},
   "outputs": [
    {
     "name": "stdout",
     "output_type": "stream",
     "text": [
      "3.7994000000000008\n"
     ]
    }
   ],
   "source": [
    "#4. Write a Python program that calculates the area of a circle based on the radius entered by the user.\n",
    "r = 1.1\n",
    "area = 3.14*r**2\n",
    "print(area)"
   ]
  },
  {
   "cell_type": "code",
   "execution_count": null,
   "id": "1b3a257c",
   "metadata": {},
   "outputs": [],
   "source": [
    "#5. Write a Python program that accepts the user's first and last name and prints them in reverse order with a space between them.\n",
    "first_name = input('Enter your first name\\n')\n",
    "last_name = input('Enter your last name\\n')\n",
    "print('Full_name: '+ last_name + \" \" + first_name)"
   ]
  },
  {
   "cell_type": "code",
   "execution_count": 50,
   "id": "4cf6297f",
   "metadata": {},
   "outputs": [
    {
     "name": "stdout",
     "output_type": "stream",
     "text": [
      "Enter four numbers seperated by commas: 3,4,5,6\n",
      "List:  ['3', '4', '5', '6']\n",
      "Tuple:  ('3', '4', '5', '6')\n"
     ]
    }
   ],
   "source": [
    "#6. Write a Python program that accepts a sequence of comma-separated numbers from the user and generates a list and a tuple of those numbers. Sample data : 3, 5, 7, 23\n",
    "numbers = input('Enter four numbers seperated by commas: ')\n",
    "\n",
    "if len(numbers) > 7 or len(numbers) < 4:\n",
    "    print('ATLEAST FOUR ELEMENTS!')\n",
    "else:\n",
    "    list = numbers.split(\",\")\n",
    "    tuple = tuple(list)\n",
    "    print('List: ',list)\n",
    "    print('Tuple: ',tuple)"
   ]
  },
  {
   "cell_type": "code",
   "execution_count": 65,
   "id": "6c541b7d",
   "metadata": {},
   "outputs": [
    {
     "name": "stdout",
     "output_type": "stream",
     "text": [
      "Enter a filename with its extension (.java,.py): shrey.java\n",
      "fileextension: java\n"
     ]
    }
   ],
   "source": [
    "#7. Write a Python program that accepts a filename from the user and prints the extension of the file.Sample filename : abc.java\n",
    "filename = input('Enter a filename with its extension (.java,.py): ')\n",
    "basename,extension = filename.split(\".\")\n",
    "print(\"fileextension:\",extension)"
   ]
  },
  {
   "cell_type": "code",
   "execution_count": 69,
   "id": "ae0c0bd3",
   "metadata": {},
   "outputs": [
    {
     "name": "stdout",
     "output_type": "stream",
     "text": [
      "Firstcolor: Red\n",
      "Lastcolor: Black\n"
     ]
    }
   ],
   "source": [
    "#8. Write a Python program to display the first and last colors from the following list.\n",
    "color_list = [\"Red\",\"Green\",\"White\" ,\"Black\"]\n",
    "color_list = [\"Red\",\"Green\",\"White\" ,\"Black\"]\n",
    "print(\"Firstcolor:\",color_list[0])\n",
    "print(\"Lastcolor:\",color_list[3])"
   ]
  },
  {
   "cell_type": "code",
   "execution_count": 92,
   "id": "ee91507e",
   "metadata": {},
   "outputs": [
    {
     "name": "stdout",
     "output_type": "stream",
     "text": [
      "The examination will start from:  11 / 12 / 2014\n"
     ]
    }
   ],
   "source": [
    "#9. Write a Python program to display the examination schedule. (extract the date from exam_st_date).exam_st_date = (11, 12, 2014)Sample Output : The examination will start from : 11 / 12 / 2014\n",
    "exam_st_date = (11, 12, 2014)\n",
    "month, day, year = (11, 12, 2014)\n",
    "print(\"The examination will start from: \",month,\"/\",day,\"/\",year)"
   ]
  },
  {
   "cell_type": "code",
   "execution_count": 115,
   "id": "0bed57c0",
   "metadata": {},
   "outputs": [
    {
     "name": "stdout",
     "output_type": "stream",
     "text": [
      "Enter a numerical integer value: 5\n",
      "615\n"
     ]
    }
   ],
   "source": [
    "#10. Write a Python program that accepts an integer (n) and computes the value of n+nn+nnn.Sample value of n is 5\n",
    "n = input(\"Enter a numerical integer value: \")\n",
    "if n.isnumeric() == False:\n",
    "    print(\"Invalid!\")\n",
    "else:\n",
    "    t1 = n+n\n",
    "    t2 = n+n+n\n",
    "    result = int(n)+int(t1)+int(t2)\n",
    "    print(result)"
   ]
  },
  {
   "cell_type": "code",
   "execution_count": 6,
   "id": "22cf479e",
   "metadata": {},
   "outputs": [
    {
     "name": "stdout",
     "output_type": "stream",
     "text": [
      "Return the absolute value of the argument.\n",
      "Help on built-in function abs in module builtins:\n",
      "\n",
      "abs(x, /)\n",
      "    Return the absolute value of the argument.\n",
      "\n"
     ]
    }
   ],
   "source": [
    "#11. Write a Python program to print the documents (syntax, description etc.) of Python built-in function(s).Sample function : abs()\n",
    "print(abs.__doc__)\n",
    "help(abs)"
   ]
  },
  {
   "cell_type": "code",
   "execution_count": 10,
   "id": "2b9e90d9",
   "metadata": {},
   "outputs": [
    {
     "name": "stdout",
     "output_type": "stream",
     "text": [
      "     July 2023\n",
      "Mo Tu We Th Fr Sa Su\n",
      "                1  2\n",
      " 3  4  5  6  7  8  9\n",
      "10 11 12 13 14 15 16\n",
      "17 18 19 20 21 22 23\n",
      "24 25 26 27 28 29 30\n",
      "31\n",
      "\n",
      "                                  2023\n",
      "\n",
      "      January                   February                   March\n",
      "Mo Tu We Th Fr Sa Su      Mo Tu We Th Fr Sa Su      Mo Tu We Th Fr Sa Su\n",
      "                   1             1  2  3  4  5             1  2  3  4  5\n",
      " 2  3  4  5  6  7  8       6  7  8  9 10 11 12       6  7  8  9 10 11 12\n",
      " 9 10 11 12 13 14 15      13 14 15 16 17 18 19      13 14 15 16 17 18 19\n",
      "16 17 18 19 20 21 22      20 21 22 23 24 25 26      20 21 22 23 24 25 26\n",
      "23 24 25 26 27 28 29      27 28                     27 28 29 30 31\n",
      "30 31\n",
      "\n",
      "       April                      May                       June\n",
      "Mo Tu We Th Fr Sa Su      Mo Tu We Th Fr Sa Su      Mo Tu We Th Fr Sa Su\n",
      "                1  2       1  2  3  4  5  6  7                1  2  3  4\n",
      " 3  4  5  6  7  8  9       8  9 10 11 12 13 14       5  6  7  8  9 10 11\n",
      "10 11 12 13 14 15 16      15 16 17 18 19 20 21      12 13 14 15 16 17 18\n",
      "17 18 19 20 21 22 23      22 23 24 25 26 27 28      19 20 21 22 23 24 25\n",
      "24 25 26 27 28 29 30      29 30 31                  26 27 28 29 30\n",
      "\n",
      "        July                     August                  September\n",
      "Mo Tu We Th Fr Sa Su      Mo Tu We Th Fr Sa Su      Mo Tu We Th Fr Sa Su\n",
      "                1  2          1  2  3  4  5  6                   1  2  3\n",
      " 3  4  5  6  7  8  9       7  8  9 10 11 12 13       4  5  6  7  8  9 10\n",
      "10 11 12 13 14 15 16      14 15 16 17 18 19 20      11 12 13 14 15 16 17\n",
      "17 18 19 20 21 22 23      21 22 23 24 25 26 27      18 19 20 21 22 23 24\n",
      "24 25 26 27 28 29 30      28 29 30 31               25 26 27 28 29 30\n",
      "31\n",
      "\n",
      "      October                   November                  December\n",
      "Mo Tu We Th Fr Sa Su      Mo Tu We Th Fr Sa Su      Mo Tu We Th Fr Sa Su\n",
      "                   1             1  2  3  4  5                   1  2  3\n",
      " 2  3  4  5  6  7  8       6  7  8  9 10 11 12       4  5  6  7  8  9 10\n",
      " 9 10 11 12 13 14 15      13 14 15 16 17 18 19      11 12 13 14 15 16 17\n",
      "16 17 18 19 20 21 22      20 21 22 23 24 25 26      18 19 20 21 22 23 24\n",
      "23 24 25 26 27 28 29      27 28 29 30               25 26 27 28 29 30 31\n",
      "30 31\n",
      "\n"
     ]
    }
   ],
   "source": [
    "#12. Write a Python program that prints the calendar for a given month and year.Note : Use 'calendar' module.\n",
    "import calendar\n",
    "\n",
    "yy = 2023\n",
    "mm = 7\n",
    "\n",
    "#print calendar for a month\n",
    "print(calendar.month(yy,mm))\n",
    "\n",
    "#print calendar for a year\n",
    "print(calendar.calendar(2023))"
   ]
  },
  {
   "cell_type": "code",
   "execution_count": 11,
   "id": "651dec5f",
   "metadata": {},
   "outputs": [
    {
     "name": "stdout",
     "output_type": "stream",
     "text": [
      "a string that you \"don't\" have to escape\n",
      "This\n",
      "is a ....... multi-line\n",
      "heredoc string --------> example\n"
     ]
    }
   ],
   "source": [
    "#Write a Python program to print the following 'here document'.\n",
    "#Sample string :\n",
    "#a string that you \"don't\" have to escape\n",
    "#This\n",
    "#is a ....... multi-line\n",
    "#heredoc string --------> example\n",
    "\n",
    "print('''a string that you \"don't\" have to escape\n",
    "This\n",
    "is a ....... multi-line\n",
    "heredoc string --------> example''')"
   ]
  },
  {
   "cell_type": "code",
   "execution_count": 24,
   "id": "1558e101",
   "metadata": {},
   "outputs": [
    {
     "name": "stdout",
     "output_type": "stream",
     "text": [
      "(2014, 7, 2)\n",
      "(2014, 7, 12) \n",
      "\n",
      "10\n"
     ]
    }
   ],
   "source": [
    "#14. Write a Python program to calculate the number of days between two dates.\n",
    "#Sample dates : (2014, 7, 2), (2014, 7, 11)\n",
    "#Expected output : 9 days\n",
    "\n",
    "date1 = (2014,7,2)\n",
    "date2 = (2014,7,12)\n",
    "\n",
    "print(date1)\n",
    "print(date2,'\\n')\n",
    "\n",
    "if date1[2] > date2[2]:\n",
    "    result = int(date1[2]) - int(date2[2])\n",
    "    print(result)\n",
    "    \n",
    "elif date2[2] > date1[2]:\n",
    "    result = int(date2[2]) - int(date1[2]) \n",
    "    print(result)\n",
    "    \n",
    "else:\n",
    "    pass\n"
   ]
  },
  {
   "cell_type": "code",
   "execution_count": 37,
   "id": "4b525ee7",
   "metadata": {},
   "outputs": [
    {
     "name": "stdout",
     "output_type": "stream",
     "text": [
      "Enter the value of the radius: 5\n",
      "The volume of the sphere is: 523.6666666666666\n"
     ]
    }
   ],
   "source": [
    "#15. Write a Python program to get the volume of a sphere with radius six.\n",
    "# 101 // 4 = 25\n",
    "# 101 % 4 = 1\n",
    "\n",
    "r = int(input(\"Enter the value of the radius: \"))\n",
    "r_cube = r*r*r\n",
    "v = 4/3*3.142*(r_cube)\n",
    "print(f\"The volume of the sphere is: {v}\")\n"
   ]
  },
  {
   "cell_type": "code",
   "execution_count": 40,
   "id": "8696ed41",
   "metadata": {},
   "outputs": [
    {
     "name": "stdout",
     "output_type": "stream",
     "text": [
      "Enter an integer: 20\n",
      "3\n"
     ]
    }
   ],
   "source": [
    "#16. Write a Python program to calculate the difference between a given number and 17. If the number is greater than 17, return twice the absolute difference.\n",
    "given_number = int(input(\"Enter an integer: \"))\n",
    "if given_number < 17:\n",
    "    diff = 17 - given_number\n",
    "    print(diff)\n",
    "elif given_number > 17:\n",
    "    x = abs(17-given_number)\n",
    "    print(x)"
   ]
  },
  {
   "cell_type": "code",
   "execution_count": 51,
   "id": "47f88aa6",
   "metadata": {},
   "outputs": [
    {
     "name": "stdout",
     "output_type": "stream",
     "text": [
      "Enter an integer: 900\n",
      "Passed\n"
     ]
    }
   ],
   "source": [
    "#17. Write a Python program to test whether a number is within 100 of 1000 or 2000.\n",
    "number = int(input(\"Enter an integer: \"))\n",
    "if (1000 - number) == 100:\n",
    "    print(\"Passed\")\n",
    "elif (2000 - number) == 100:\n",
    "    print(\"Passed\")\n",
    "else: \n",
    "    print(\"Failed\")"
   ]
  },
  {
   "cell_type": "code",
   "execution_count": 4,
   "id": "759d1b7b",
   "metadata": {},
   "outputs": [
    {
     "name": "stdout",
     "output_type": "stream",
     "text": [
      "Enter the first number: 3\n",
      "Enter the second number: 3\n",
      "Enter the third number: 3\n",
      "The sum of the three numbers is: 9\n",
      "Sum:  27\n"
     ]
    }
   ],
   "source": [
    "#18. Write a Python program to calculate the sum of three given numbers. If the values are equal, return three times their sum.\n",
    "a = int(input(\"Enter the first number: \"))\n",
    "b = int(input(\"Enter the second number: \"))\n",
    "c = int(input(\"Enter the third number: \"))\n",
    "\n",
    "result = a+b+c\n",
    "print(f\"The sum of the three numbers is: {result}\")\n",
    "\n",
    "if a==b and b==c:\n",
    "    print(\"Sum: \",result*3)"
   ]
  },
  {
   "cell_type": "code",
   "execution_count": 5,
   "id": "005849e0",
   "metadata": {},
   "outputs": [
    {
     "name": "stdout",
     "output_type": "stream",
     "text": [
      "IsArray\n",
      "IsEmpty\n"
     ]
    }
   ],
   "source": [
    "#19. Write a Python program to get a newly-generated string from a given string where \"Is\" has been added to the front. Return the string unchanged if the given string already begins with \"Is\".\n",
    "def new_string(text):\n",
    "    if len(text) >= 2 and text [:2] == \"Is\":\n",
    "        return text\n",
    "    return \"Is\" + text\n",
    "print(new_string(\"Array\"))\n",
    "print(new_string(\"IsEmpty\"))"
   ]
  },
  {
   "cell_type": "code",
   "execution_count": 17,
   "id": "9936a1fc",
   "metadata": {},
   "outputs": [
    {
     "name": "stdout",
     "output_type": "stream",
     "text": [
      "Enter the number of times the string should repeat(positive): 2\n",
      "Three copies of string look like this:  12341234\n",
      "None\n"
     ]
    }
   ],
   "source": [
    "#20. Write a Python program that returns a string that is n (non-negative integer) copies of a given string.\n",
    "def number(string):\n",
    "    n = int(input(\"Enter the number of times the string should repeat(positive): \"))\n",
    "    if n > 0:\n",
    "        pass\n",
    "    else:\n",
    "        return \"Invalid number\"\n",
    "    print(\"Three copies of string look like this: \",string*n)\n",
    "    \n",
    "print(number(\"1234\"))        "
   ]
  },
  {
   "cell_type": "code",
   "execution_count": 32,
   "id": "c8d59719",
   "metadata": {},
   "outputs": [
    {
     "name": "stdout",
     "output_type": "stream",
     "text": [
      "Enter a positive integer: shrey\n"
     ]
    },
    {
     "ename": "ValueError",
     "evalue": "invalid literal for int() with base 10: 'shrey'",
     "output_type": "error",
     "traceback": [
      "\u001b[0;31m---------------------------------------------------------------------------\u001b[0m",
      "\u001b[0;31mValueError\u001b[0m                                Traceback (most recent call last)",
      "Cell \u001b[0;32mIn[32], line 2\u001b[0m\n\u001b[1;32m      1\u001b[0m \u001b[38;5;66;03m#21. Write a Python program that determines whether a given number (accepted from the user) is even or odd, and prints an appropriate message to the user.\u001b[39;00m\n\u001b[0;32m----> 2\u001b[0m number \u001b[38;5;241m=\u001b[39m \u001b[38;5;28;43mint\u001b[39;49m\u001b[43m(\u001b[49m\u001b[38;5;28;43minput\u001b[39;49m\u001b[43m(\u001b[49m\u001b[38;5;124;43m\"\u001b[39;49m\u001b[38;5;124;43mEnter a positive integer: \u001b[39;49m\u001b[38;5;124;43m\"\u001b[39;49m\u001b[43m)\u001b[49m\u001b[43m)\u001b[49m\n\u001b[1;32m      4\u001b[0m \u001b[38;5;28;01mif\u001b[39;00m number \u001b[38;5;241m<\u001b[39m\u001b[38;5;241m=\u001b[39m \u001b[38;5;241m0\u001b[39m:\n\u001b[1;32m      5\u001b[0m     \u001b[38;5;28mprint\u001b[39m(\u001b[38;5;124m\"\u001b[39m\u001b[38;5;124mInvalid choice!\u001b[39m\u001b[38;5;124m\"\u001b[39m)\n",
      "\u001b[0;31mValueError\u001b[0m: invalid literal for int() with base 10: 'shrey'"
     ]
    }
   ],
   "source": [
    "#21. Write a Python program that determines whether a given number (accepted from the user) is even or odd, and prints an appropriate message to the user.\n",
    "number = int(input(\"Enter a positive integer: \"))\n",
    "\n",
    "if number <= 0:\n",
    "    print(\"Invalid choice!\")\n",
    "elif number%2 == 0:\n",
    "    print(\"Even number\")\n",
    "else:\n",
    "    print(\"Odd number\")"
   ]
  },
  {
   "cell_type": "code",
   "execution_count": null,
   "id": "9cb8132b",
   "metadata": {},
   "outputs": [],
   "source": [
    "#22. Write a Python program to count the number 4 in a given list.\n",
    "List = list(input(\"Enter a list of characters: \"))\n",
    "print(List)\n",
    "count = 0\n",
    "for i in List:\n",
    "    if i == 4:\n",
    "        count = count + 1\n",
    "print (count)\n",
    "        "
   ]
  },
  {
   "cell_type": "code",
   "execution_count": 65,
   "id": "1b0cc07a",
   "metadata": {},
   "outputs": [
    {
     "name": "stdout",
     "output_type": "stream",
     "text": [
      "1\n",
      "3\n"
     ]
    }
   ],
   "source": [
    "def list_count_4(nums):\n",
    "  count = 0  \n",
    "  for num in nums:\n",
    "    if num == 4:\n",
    "      count = count + 1\n",
    "\n",
    "  return count\n",
    "\n",
    "print(list_count_4([1, 4, 6, 7, 2]))\n",
    "print(list_count_4([1, 4, 6, 4, 7, 4]))"
   ]
  },
  {
   "cell_type": "code",
   "execution_count": 24,
   "id": "b8ce02ec",
   "metadata": {},
   "outputs": [
    {
     "name": "stdout",
     "output_type": "stream",
     "text": [
      "Enter a positive number of copies: 3\n",
      "Enter any string: p\n",
      "ppp\n"
     ]
    }
   ],
   "source": [
    "#23. Write a Python program to get n (non-negative integer) copies of the first 2 characters of a given string. Return n copies of the whole string if the length is less than 2.\n",
    "copies = int(input(\"Enter a positive number of copies: \"))\n",
    "word = str(input(\"Enter any string: \"))\n",
    "if copies < 0 or copies == 0:\n",
    "    print(\"Invalid choice!\")\n",
    "else:\n",
    "    pass\n",
    "\n",
    "    if len(word) < 2:\n",
    "        print(copies*word)\n",
    "    \n",
    "    elif len(word) >= 2:\n",
    "        print(copies*(word[0]),copies*(word[1]))\n",
    "    else:\n",
    "        pass\n",
    "    "
   ]
  },
  {
   "cell_type": "code",
   "execution_count": 42,
   "id": "a8db2759",
   "metadata": {},
   "outputs": [
    {
     "name": "stdout",
     "output_type": "stream",
     "text": [
      "Enter a single letter: e\n",
      "e is a vowel\n"
     ]
    }
   ],
   "source": [
    "#24. Write a Python program to test whether a passed letter is a vowel or not.\n",
    "word = input(\"Enter a single letter: \")\n",
    "if len(word) > 1:\n",
    "    print(\"Invalid choice!\")\n",
    "else:\n",
    "    pass\n",
    "    if word in ('a','e','i','o','u','A','E','I','O','U'):\n",
    "        print(word + \" is a vowel\")\n",
    "    else:\n",
    "        print(\"consonant\")"
   ]
  },
  {
   "cell_type": "code",
   "execution_count": 104,
   "id": "78b65471",
   "metadata": {},
   "outputs": [
    {
     "name": "stdout",
     "output_type": "stream",
     "text": [
      "Enter four numbers: 1234\n",
      "[ 1 , 2 , 3 , 4 ]\n",
      "False\n"
     ]
    }
   ],
   "source": [
    "#25. Write a Python program that checks whether a specified value is contained within a group of values.\n",
    "#Test Data :\n",
    "#3 -> [1, 5, 8, 3] : True\n",
    "#-1 -> [1, 5, 8, 3] : False\n",
    "\n",
    "values = input(\"Enter four numbers: \")\n",
    "if len(values) < 4 or values.isdigit() == False:\n",
    "    print(\"Four digits only!\")\n",
    "else:\n",
    "    pass\n",
    "\n",
    "          \n",
    "    print (\"[\",values[0],\",\",values[1],\",\",values[2],\",\",values[3],\"]\") \n",
    "    #num = input(\"Input a single number to check if it exists in the list: \")\n",
    "    if len(num) > 1 or num.isdigit() == False:\n",
    "        print(\"Single digit only!\")\n",
    "    elif (str(7) in values):\n",
    "        print(\"True\")\n",
    "    else:\n",
    "        print(\"False\")"
   ]
  },
  {
   "cell_type": "code",
   "execution_count": null,
   "id": "4d0dbc3d",
   "metadata": {},
   "outputs": [],
   "source": []
  },
  {
   "cell_type": "code",
   "execution_count": 126,
   "id": "d692d6b6",
   "metadata": {},
   "outputs": [
    {
     "name": "stdout",
     "output_type": "stream",
     "text": [
      "***\n",
      "******\n",
      "**\n",
      "*****\n"
     ]
    }
   ],
   "source": [
    "#26. Write a Python program to create a histogram from a given list of integers.\n",
    "def histogram(x):\n",
    "    for num in x:\n",
    "        # Print '*' the number of times specified by the integer\n",
    "        print('*' * num)\n",
    "\n",
    "# Example usage:\n",
    "numbers = [3, 6, 2, 5]\n",
    "histogram(numbers)"
   ]
  },
  {
   "cell_type": "code",
   "execution_count": 136,
   "id": "4742bca2",
   "metadata": {},
   "outputs": [
    {
     "name": "stdout",
     "output_type": "stream",
     "text": [
      "shrey\n"
     ]
    }
   ],
   "source": [
    "#27. Write a Python program that concatenates all elements in a list into a string and returns it.\n",
    "def concat(x):\n",
    "    result = ''\n",
    "    for i in x:\n",
    "         result = result + i\n",
    "    print(result)\n",
    "        \n",
    "words = ['s','h','r','e','y']\n",
    "concat(words)"
   ]
  },
  {
   "cell_type": "code",
   "execution_count": 147,
   "id": "ff275b1f",
   "metadata": {},
   "outputs": [
    {
     "name": "stdout",
     "output_type": "stream",
     "text": [
      "386\n",
      "462\n",
      "418\n",
      "344\n",
      "236\n",
      "566\n",
      "978\n",
      "328\n",
      "162\n",
      "758\n",
      "918\n"
     ]
    }
   ],
   "source": [
    "#28. Write a Python program to print all even numbers from a given list of numbers in the same order and stop printing any after 237 in the sequence.\n",
    "#Sample numbers list :\n",
    "\n",
    "numbers = [    \n",
    "    386, 462, 47, 418, 907, 344, 236, 375, 823, 566, 597, 978, 328, 615, 953, 345, \n",
    "    399, 162, 758, 219, 918, 237, 412, 566, 826, 248, 866, 950, 626, 949, 687, 217, \n",
    "    815, 67, 104, 58, 512, 24, 892, 894, 767, 553, 81, 379, 843, 831, 445, 742, 717, \n",
    "    958,743, 527 ]\n",
    "\n",
    "for i in numbers:\n",
    "    if i == 237:\n",
    "        break\n",
    "    if i%2 == 0:\n",
    "        print(i) "
   ]
  },
  {
   "cell_type": "code",
   "execution_count": 157,
   "id": "a290120b",
   "metadata": {},
   "outputs": [
    {
     "name": "stdout",
     "output_type": "stream",
     "text": [
      "{'White', 'Black'}\n"
     ]
    }
   ],
   "source": [
    "#Write a Python program that prints out all colors from color_list_1 that are not present in color_list_2.\n",
    "color_list_1 = set([\"White\", \"Black\", \"Red\"])\n",
    "color_list_2 = set([\"Red\", \"Green\"])\n",
    "\n",
    "result = color_list_1 - color_list_2\n",
    "\n",
    "print(result)"
   ]
  },
  {
   "cell_type": "code",
   "execution_count": 160,
   "id": "a5ed60d7",
   "metadata": {},
   "outputs": [
    {
     "name": "stdout",
     "output_type": "stream",
     "text": [
      "Enter the base of a triangle: 4\n",
      "Enter the height of a triangle: 5\n",
      "10.0\n"
     ]
    }
   ],
   "source": [
    "#30. Write a Python program that will accept the base and height of a triangle and compute its area\n",
    "base = int(input(\"Enter the base of a triangle: \"))\n",
    "height = int(input(\"Enter the height of a triangle: \"))\n",
    "area = 0.5*base*height\n",
    "print(area)"
   ]
  },
  {
   "cell_type": "code",
   "execution_count": 8,
   "id": "4950a55e",
   "metadata": {},
   "outputs": [
    {
     "name": "stdout",
     "output_type": "stream",
     "text": [
      "Enter integer 1: 60\n",
      "Enter integer 2: 48\n",
      "The GCD of integer 1 and integer 2 is: 12\n"
     ]
    }
   ],
   "source": [
    "#31. Write a Python program that computes the greatest common divisor (GCD) of two positive integers.\n",
    "import math\n",
    "num1 = int(input(\"Enter integer 1: \"))\n",
    "num2 = int(input(\"Enter integer 2: \"))\n",
    "if num1 <= 0 or num2 <= 0:\n",
    "    print(\"Enter positive integers only!\")\n",
    "else:\n",
    "    print(\"The GCD of integer 1 and integer 2 is:\",math.gcd(num1,num2))\n"
   ]
  },
  {
   "cell_type": "code",
   "execution_count": 10,
   "id": "b5a8005c",
   "metadata": {},
   "outputs": [
    {
     "name": "stdout",
     "output_type": "stream",
     "text": [
      "The sum is: 0\n"
     ]
    }
   ],
   "source": [
    "#33. Write a Python program to sum three given integers. However, if two values are equal, the sum will be zero.\n",
    "num1 = 4\n",
    "num2 = 4\n",
    "num3 = 7\n",
    "if num1 == num2 or num1 == num3 or num2 == num3:\n",
    "    print(\"The sum is: 0\")\n",
    "else:\n",
    "    print(\"The sum is:\",(num1+num2+num3))"
   ]
  },
  {
   "cell_type": "code",
   "execution_count": 13,
   "id": "d74659a8",
   "metadata": {},
   "outputs": [
    {
     "name": "stdout",
     "output_type": "stream",
     "text": [
      "7\n"
     ]
    }
   ],
   "source": [
    "#34. Write a Python program to sum two given integers. However, if the sum is between 15 and 20 it will return 20.\n",
    "def sum_num(a,b):\n",
    "    add = a + b\n",
    "    if add >= 15 and add <=20:\n",
    "        return 20\n",
    "    else:\n",
    "        print(add)\n",
    "sum_num(10,5)\n",
    "sum_num(3,4)"
   ]
  },
  {
   "cell_type": "code",
   "execution_count": 17,
   "id": "e259973a",
   "metadata": {},
   "outputs": [
    {
     "data": {
      "text/plain": [
       "True"
      ]
     },
     "execution_count": 17,
     "metadata": {},
     "output_type": "execute_result"
    }
   ],
   "source": [
    "#35. Write a Python program that returns true if the two given integer values are equal or their sum or difference is 5.\n",
    "def num(a,b):\n",
    "    add = a+b\n",
    "    sub = abs(a-b)\n",
    "    if a == b or add == 5 or sub == 5:\n",
    "        return True\n",
    "    else:\n",
    "        return False\n",
    "num(4,7)\n",
    "num(10,5)"
   ]
  },
  {
   "cell_type": "code",
   "execution_count": 22,
   "id": "f8f0f989",
   "metadata": {},
   "outputs": [
    {
     "data": {
      "text/plain": [
       "5"
      ]
     },
     "execution_count": 22,
     "metadata": {},
     "output_type": "execute_result"
    }
   ],
   "source": [
    "#36. Write a Python program to add two objects if both objects are integers.\n",
    "def objects(a,b):\n",
    "    if type(a) == int and type(b) == int:\n",
    "        return a+b\n",
    "    else:\n",
    "        return False\n",
    "objects(2.5,3)\n",
    "objects(2,3)"
   ]
  },
  {
   "cell_type": "code",
   "execution_count": 34,
   "id": "9ced7d16",
   "metadata": {},
   "outputs": [
    {
     "name": "stdout",
     "output_type": "stream",
     "text": [
      "Enter your name: Shrey\n",
      "Enter your age: 26\n",
      "Enter your address: 6201\n",
      "Name: Shrey\n",
      "Age: 26\n",
      "Address: 6201\n"
     ]
    }
   ],
   "source": [
    "#37. Write a Python program that displays your name, age, and address on three different lines.\n",
    "name = input(\"Enter your name: \")\n",
    "age = input(\"Enter your age: \")\n",
    "address = input(\"Enter your address: \")\n",
    "\n",
    "#print(\"The name is: \" +name+ \"\\n\",\"The age is: \" +age+ \"\\n\",\"The address is: \" +address)\n",
    "print(f\"Name: {name}\\nAge: {age}\\nAddress: {address}\")"
   ]
  },
  {
   "cell_type": "code",
   "execution_count": 37,
   "id": "5e04125f",
   "metadata": {},
   "outputs": [
    {
     "name": "stdout",
     "output_type": "stream",
     "text": [
      "(4 + 3) ^ 2) = 49\n"
     ]
    }
   ],
   "source": [
    "#38. Write a Python program to solve (x + y) * (x + y).\n",
    "#Test Data : x = 4, y = 3\n",
    "#Expected Output : (4 + 3) ^ 2) = 49\n",
    "\n",
    "def solve(x,y):\n",
    "    a = x + y\n",
    "    result = a*a\n",
    "    print(f\"({x} + {y}) ^ 2) = {result}\")\n",
    "solve(4,3)    "
   ]
  },
  {
   "cell_type": "code",
   "execution_count": 66,
   "id": "fc01621d",
   "metadata": {},
   "outputs": [
    {
     "name": "stdout",
     "output_type": "stream",
     "text": [
      "12722.79\n"
     ]
    }
   ],
   "source": [
    "#39. Write a Python program to compute the future value of a specified principal amount, rate of interest, and number of years.\n",
    "#Test Data : amt = 10000, int = 3.5, years = 7\n",
    "#Expected Output : 12722.79\n",
    "\n",
    "def value(amount,rate,years):\n",
    "    future_value = amount*((1+(rate/100)) ** years)\n",
    "    print(round(future_value,2))\n",
    "\n",
    "value(10000,3.5,7)"
   ]
  },
  {
   "cell_type": "code",
   "execution_count": 71,
   "id": "4bc2afa7",
   "metadata": {},
   "outputs": [
    {
     "name": "stdout",
     "output_type": "stream",
     "text": [
      "39.4\n"
     ]
    }
   ],
   "source": [
    "#40. Write a Python program to calculate the distance between the points (x1, y1) and (x2, y2).\n",
    "import math\n",
    "\n",
    "def distance(x1, y1, x2, y2):\n",
    "    distance = math.sqrt((x2 - x1)**2 + (y2 - y1)**2)\n",
    "    print(round(distance,2))\n",
    "distance(4,10,20,46)"
   ]
  },
  {
   "cell_type": "code",
   "execution_count": 73,
   "id": "6ac29ac5",
   "metadata": {},
   "outputs": [
    {
     "name": "stdout",
     "output_type": "stream",
     "text": [
      "Enter the file path: main.py\n",
      "The file does not exist\n"
     ]
    }
   ],
   "source": [
    "# 41. Write a Python program to check whether a file exists.\n",
    "\n",
    "import os\n",
    "\n",
    "def check_file_exists(file_path):\n",
    "    if os.path.isfile(file_path):\n",
    "        return True\n",
    "    else:\n",
    "        return False\n",
    "    \n",
    "file_path = input(\"Enter the file path: \")\n",
    "\n",
    "if check_file_exists(file_path):\n",
    "    print(\"the file exists\")\n",
    "else:\n",
    "    print(\"The file does not exist\")\n"
   ]
  },
  {
   "cell_type": "code",
   "execution_count": 4,
   "id": "2209ea48",
   "metadata": {},
   "outputs": [
    {
     "name": "stdout",
     "output_type": "stream",
     "text": [
      "64-bit it is!\n"
     ]
    }
   ],
   "source": [
    "#42. Write a Python program to determine if a Python shell is executing in 32bit or 64bit mode on OS.\n",
    "\n",
    "import platform\n",
    "\n",
    "def check_python_bitness():\n",
    "    if platform.architecture()[0] == '32bit':\n",
    "        print(\"32-bit it is!\")\n",
    "    elif platform.architecture()[0] == '64bit':\n",
    "        print(\"64-bit it is!\")\n",
    "    else: \n",
    "        print(\"IDK\")\n",
    "    \n",
    "check_python_bitness()"
   ]
  },
  {
   "cell_type": "code",
   "execution_count": 2,
   "id": "5e0fdaa0",
   "metadata": {},
   "outputs": [
    {
     "name": "stdout",
     "output_type": "stream",
     "text": [
      "64\n"
     ]
    }
   ],
   "source": [
    "#42\n",
    "\n",
    "import struct\n",
    "print(struct.calcsize(\"P\") * 8)"
   ]
  },
  {
   "cell_type": "code",
   "execution_count": 5,
   "id": "0e48396b",
   "metadata": {},
   "outputs": [
    {
     "name": "stdout",
     "output_type": "stream",
     "text": [
      "64bit\n"
     ]
    }
   ],
   "source": [
    "#42\n",
    "import platform\n",
    "print(platform.architecture()[0])"
   ]
  },
  {
   "cell_type": "code",
   "execution_count": 11,
   "id": "f9d478ec",
   "metadata": {},
   "outputs": [
    {
     "name": "stdout",
     "output_type": "stream",
     "text": [
      "The OS name is: posix\n",
      "The system version and platform information: 22.5.0\n"
     ]
    }
   ],
   "source": [
    "43 #Write a Python program to get OS name, platform and release information.\n",
    "import platform\n",
    "import os\n",
    "print(\"The OS name is:\",os.name)\n",
    "print(\"The system version and platform information:\",platform.release())"
   ]
  },
  {
   "cell_type": "code",
   "execution_count": 12,
   "id": "afaefe92",
   "metadata": {},
   "outputs": [
    {
     "name": "stdout",
     "output_type": "stream",
     "text": [
      "Site packages are located at:\n",
      "/Users/shrey/Desktop/Python/anaconda3/lib/python3.10/site-packages\n"
     ]
    }
   ],
   "source": [
    "#44. Write a Python program to locate Python site packages.\n",
    "\n",
    "import site\n",
    "\n",
    "def locat_site_packages():\n",
    "    site_package_path = site.getsitepackages()\n",
    "    print(\"Site packages are located at:\")\n",
    "    for path in site_package_path:\n",
    "        print(path)\n",
    "locat_site_packages()"
   ]
  },
  {
   "cell_type": "code",
   "execution_count": 15,
   "id": "50c328e6",
   "metadata": {},
   "outputs": [
    {
     "name": "stdout",
     "output_type": "stream",
     "text": [
      "total 184\n",
      "-rw-r--r--  1 shrey  staff   3103 May  8 19:29 Basic_math.ipynb\n",
      "-rw-r--r--  1 shrey  staff   6862 May 13 16:47 Dictionary.ipynb\n",
      "-rw-r--r--  1 shrey  staff   6508 May 11 22:05 Lists.ipynb\n",
      "-rw-r--r--  1 shrey  staff   3659 May 11 20:14 Print formatting with strings.ipynb\n",
      "-rw-r--r--  1 shrey  staff   3744 May 13 18:09 Sets.ipynb\n",
      "-rw-r--r--  1 shrey  staff  11827 May 10 08:01 Strings.ipynb\n",
      "-rw-r--r--  1 shrey  staff   4133 May 13 17:14 Tuples.ipynb\n",
      "-rw-r--r--  1 shrey  staff   3601 May 10 06:41 Variable assignments.ipynb\n",
      "-rw-r--r--  1 shrey  staff  35842 Jun  7 06:50 W3_resource.python(I).ipynb\n",
      "-rw-r--r--@ 1 shrey  staff     21 May  8 19:16 print(\"hello world\").py\n"
     ]
    },
    {
     "data": {
      "text/plain": [
       "0"
      ]
     },
     "execution_count": 15,
     "metadata": {},
     "output_type": "execute_result"
    }
   ],
   "source": [
    "#45. Write a Python program that calls an external command.\n",
    "from subprocess import call\n",
    "call([\"ls\", \"-l\"])"
   ]
  },
  {
   "cell_type": "code",
   "execution_count": 25,
   "id": "fd178230",
   "metadata": {},
   "outputs": [
    {
     "name": "stdout",
     "output_type": "stream",
     "text": [
      "/Users/shrey/Desktop/Python/My Python Stuff\n",
      "0\n"
     ]
    }
   ],
   "source": [
    "#45\n",
    "import os\n",
    "print(os.system('pwd'))"
   ]
  },
  {
   "cell_type": "code",
   "execution_count": 19,
   "id": "cb64e2cc",
   "metadata": {},
   "outputs": [
    {
     "ename": "NameError",
     "evalue": "name 'abc' is not defined",
     "output_type": "error",
     "traceback": [
      "\u001b[0;31m---------------------------------------------------------------------------\u001b[0m",
      "\u001b[0;31mNameError\u001b[0m                                 Traceback (most recent call last)",
      "Cell \u001b[0;32mIn[19], line 3\u001b[0m\n\u001b[1;32m      1\u001b[0m \u001b[38;5;66;03m#46. Write a Python program to retrieve the path and name of the file currently being executed.\u001b[39;00m\n\u001b[1;32m      2\u001b[0m \u001b[38;5;28;01mimport\u001b[39;00m \u001b[38;5;21;01mos\u001b[39;00m\n\u001b[0;32m----> 3\u001b[0m \u001b[38;5;28mprint\u001b[39m(\u001b[38;5;124m\"\u001b[39m\u001b[38;5;124mCurrent file name: \u001b[39m\u001b[38;5;124m\"\u001b[39m,os\u001b[38;5;241m.\u001b[39mpath\u001b[38;5;241m.\u001b[39mrealpath(\u001b[43mabc\u001b[49m))\n",
      "\u001b[0;31mNameError\u001b[0m: name 'abc' is not defined"
     ]
    }
   ],
   "source": [
    "#46. Write a Python program to retrieve the path and name of the file currently being executed.\n",
    "import os\n",
    "print(\"Current file name: \",os.path.realpath(abc))"
   ]
  },
  {
   "cell_type": "code",
   "execution_count": 21,
   "id": "bebedeb6",
   "metadata": {},
   "outputs": [
    {
     "name": "stdout",
     "output_type": "stream",
     "text": [
      "The number of CPUs being used are: 8\n"
     ]
    }
   ],
   "source": [
    "#47. Write a Python program to find out the number of CPUs used.\n",
    "import os\n",
    "print(\"The number of CPUs being used are:\",os.cpu_count())"
   ]
  },
  {
   "cell_type": "code",
   "execution_count": 23,
   "id": "ec6f28d9",
   "metadata": {},
   "outputs": [
    {
     "name": "stdout",
     "output_type": "stream",
     "text": [
      "1234.0\n",
      "1234\n"
     ]
    }
   ],
   "source": [
    "#48. Write a Python program to parse a string to float or integer.\n",
    "string_char = \"1234\"\n",
    "print(float(string_char))\n",
    "print(int(string_char))"
   ]
  },
  {
   "cell_type": "code",
   "execution_count": 35,
   "id": "f99ce7de",
   "metadata": {},
   "outputs": [
    {
     "name": "stdout",
     "output_type": "stream",
     "text": [
      "/Users/shrey/Desktop/Python/My Python Stuff\n",
      "['Sets.ipynb', 'Variable assignments.ipynb', 'Lists.ipynb', 'Dictionary.ipynb', 'Tuples.ipynb', 'Basic_math.ipynb', '.ipynb_checkpoints', 'Strings.ipynb', 'print(\"hello world\").py', 'Print formatting with strings.ipynb', 'W3_resource.python(I).ipynb']\n"
     ]
    }
   ],
   "source": [
    "#49. Write a Python program to list all files in a directory.\n",
    "import os\n",
    "path = os.system('pwd')\n",
    "arr = os.listdir('/Users/shrey/Desktop/Python/My Python Stuff')\n",
    "print(arr)"
   ]
  },
  {
   "cell_type": "code",
   "execution_count": 40,
   "id": "abc18d19",
   "metadata": {},
   "outputs": [
    {
     "name": "stdout",
     "output_type": "stream",
     "text": [
      "Hello!\n",
      "Hello\n",
      "!\n"
     ]
    }
   ],
   "source": [
    "#50. Write a Python program to print without a newline or space.\n",
    "print(\"Hello\", end='')\n",
    "print(\"!\")\n",
    "\n",
    "print(\"Hello\")\n",
    "print(\"!\")\n",
    "\n",
    "#To print without a newline or space in Python, you can use the end parameter of the print() function. By default, the end parameter is set to '\\n', which adds a newline character at the end of the printed content. However, you can change it to an empty string to remove the newline character."
   ]
  },
  {
   "cell_type": "code",
   "execution_count": 1,
   "id": "55f47595",
   "metadata": {},
   "outputs": [
    {
     "name": "stdout",
     "output_type": "stream",
     "text": [
      "3\n",
      "         29 function calls in 0.000 seconds\n",
      "\n",
      "   Ordered by: standard name\n",
      "\n",
      "   ncalls  tottime  percall  cumtime  percall filename:lineno(function)\n",
      "        1    0.000    0.000    0.000    0.000 3067641528.py:5(sum)\n",
      "        1    0.000    0.000    0.000    0.000 <string>:1(<module>)\n",
      "        1    0.000    0.000    0.000    0.000 iostream.py:202(schedule)\n",
      "        2    0.000    0.000    0.000    0.000 iostream.py:437(_is_master_process)\n",
      "        2    0.000    0.000    0.000    0.000 iostream.py:456(_schedule_flush)\n",
      "        2    0.000    0.000    0.000    0.000 iostream.py:526(write)\n",
      "        1    0.000    0.000    0.000    0.000 iostream.py:90(_event_pipe)\n",
      "        1    0.000    0.000    0.000    0.000 socket.py:543(send)\n",
      "        1    0.000    0.000    0.000    0.000 threading.py:1102(_wait_for_tstate_lock)\n",
      "        1    0.000    0.000    0.000    0.000 threading.py:1169(is_alive)\n",
      "        1    0.000    0.000    0.000    0.000 threading.py:553(is_set)\n",
      "        1    0.000    0.000    0.000    0.000 {built-in method builtins.exec}\n",
      "        2    0.000    0.000    0.000    0.000 {built-in method builtins.isinstance}\n",
      "        2    0.000    0.000    0.000    0.000 {built-in method builtins.len}\n",
      "        1    0.000    0.000    0.000    0.000 {built-in method builtins.print}\n",
      "        2    0.000    0.000    0.000    0.000 {built-in method posix.getpid}\n",
      "        2    0.000    0.000    0.000    0.000 {method '__exit__' of '_thread.RLock' objects}\n",
      "        1    0.000    0.000    0.000    0.000 {method 'acquire' of '_thread.lock' objects}\n",
      "        1    0.000    0.000    0.000    0.000 {method 'append' of 'collections.deque' objects}\n",
      "        1    0.000    0.000    0.000    0.000 {method 'disable' of '_lsprof.Profiler' objects}\n",
      "        2    0.000    0.000    0.000    0.000 {method 'write' of '_io.StringIO' objects}\n",
      "\n",
      "\n"
     ]
    }
   ],
   "source": [
    "#51. Write a Python program to determine the profiling of Python programs.\n",
    "#Note: A profile is a set of statistics that describes how often and for how long various parts of the program executed. These statistics can be formatted into reports via the pstats module.\n",
    "\n",
    "import cProfile\n",
    "def sum():\n",
    "    print(1+2)\n",
    "cProfile.run('sum()')"
   ]
  },
  {
   "cell_type": "code",
   "execution_count": 3,
   "id": "4d54a4b9",
   "metadata": {},
   "outputs": [
    {
     "name": "stdout",
     "output_type": "stream",
     "text": [
      "Enter the string you want to print to stderr: error\n"
     ]
    },
    {
     "name": "stderr",
     "output_type": "stream",
     "text": [
      "error\n"
     ]
    }
   ],
   "source": [
    "#52. Write a Python program to print to STDERR.\n",
    "\n",
    "import sys\n",
    "x = input(\"Enter the string you want to print to stderr: \")\n",
    "print(x, file = sys.stderr)"
   ]
  },
  {
   "cell_type": "code",
   "execution_count": 6,
   "id": "c4de589c",
   "metadata": {},
   "outputs": [
    {
     "name": "stderr",
     "output_type": "stream",
     "text": [
      "abc---efg---xyz\n"
     ]
    }
   ],
   "source": [
    "#52\n",
    "\n",
    "#from __future__ import print_function\n",
    "import sys\n",
    "\n",
    "def eprint(*args, **kwargs):\n",
    "    print(*args, file=sys.stderr, **kwargs)\n",
    "    \n",
    "eprint(\"abc\", \"efg\", \"xyz\", sep=\"---\")"
   ]
  },
  {
   "cell_type": "code",
   "execution_count": 9,
   "id": "9092c49e",
   "metadata": {},
   "outputs": [
    {
     "name": "stdout",
     "output_type": "stream",
     "text": [
      "SHELL: /bin/zsh\n",
      "All env. variables:\n",
      "TERM_PROGRAM: Apple_Terminal\n",
      "SHELL: /bin/zsh\n",
      "TERM: xterm-color\n",
      "TMPDIR: /var/folders/09/htp7pg_d4ms_dsv0z1rm28q80000gn/T/\n",
      "CONDA_SHLVL: 1\n",
      "CONDA_PROMPT_MODIFIER: (base) \n",
      "TERM_PROGRAM_VERSION: 447\n",
      "TERM_SESSION_ID: 66B094E1-6072-406C-BEDC-9B88DF718DC2\n",
      "USER: shrey\n",
      "CONDA_EXE: /Users/shrey/Desktop/Python/anaconda3/bin/conda\n",
      "SSH_AUTH_SOCK: /private/tmp/com.apple.launchd.gvYsKnlr3V/Listeners\n",
      "_CE_CONDA: \n",
      "CONDA_ROOT: /Users/shrey/Desktop/Python/anaconda3\n",
      "PATH: /Users/shrey/Desktop/Python/anaconda3/bin:/usr/local/bin:/System/Cryptexes/App/usr/bin:/usr/bin:/bin:/usr/sbin:/sbin:/var/run/com.apple.security.cryptexd/codex.system/bootstrap/usr/local/bin:/var/run/com.apple.security.cryptexd/codex.system/bootstrap/usr/bin:/var/run/com.apple.security.cryptexd/codex.system/bootstrap/usr/appleinternal/bin\n",
      "__CFBundleIdentifier: com.apple.Terminal\n",
      "CONDA_PREFIX: /Users/shrey/Desktop/Python/anaconda3\n",
      "PWD: /Users/shrey\n",
      "LANG: en_US.UTF-8\n",
      "EVENT_NOKQUEUE: 1\n",
      "XPC_FLAGS: 0x0\n",
      "XPC_SERVICE_NAME: 0\n",
      "_CE_M: \n",
      "HOME: /Users/shrey\n",
      "SHLVL: 4\n",
      "LOGNAME: shrey\n",
      "CONDA_PYTHON_EXE: /Users/shrey/Desktop/Python/anaconda3/bin/python\n",
      "LC_CTYPE: UTF-8\n",
      "CONDA_DEFAULT_ENV: base\n",
      "_: /Users/shrey/Desktop/Python/anaconda3/bin/jupyter-notebook\n",
      "PYDEVD_USE_FRAME_EVAL: NO\n",
      "JPY_PARENT_PID: 1069\n",
      "CLICOLOR: 1\n",
      "FORCE_COLOR: 1\n",
      "CLICOLOR_FORCE: 1\n",
      "PAGER: cat\n",
      "GIT_PAGER: cat\n",
      "MPLBACKEND: module://matplotlib_inline.backend_inline\n"
     ]
    }
   ],
   "source": [
    "#53. Write a Python program to access environment variables.\n",
    "import os\n",
    "\n",
    "variable_name = \"SHELL\"\n",
    "variable_value = os.getenv(variable_name)\n",
    "print(f\"{variable_name}: {variable_value}\")\n",
    "\n",
    "all_variables = os.environ\n",
    "print(\"All env. variables:\")\n",
    "for key, value in all_variables.items():\n",
    "    print(f\"{key}: {value}\")\n"
   ]
  },
  {
   "cell_type": "code",
   "execution_count": 10,
   "id": "c4c2c34d",
   "metadata": {},
   "outputs": [
    {
     "name": "stdout",
     "output_type": "stream",
     "text": [
      "Current username: shrey\n"
     ]
    }
   ],
   "source": [
    "#54. Write a Python program to get the current username.\n",
    "\n",
    "import getpass\n",
    "\n",
    "username = getpass.getuser()\n",
    "print(f\"Current username: {username}\")"
   ]
  },
  {
   "cell_type": "code",
   "execution_count": 14,
   "id": "58815d32",
   "metadata": {},
   "outputs": [
    {
     "name": "stdout",
     "output_type": "stream",
     "text": [
      "Local IP addresses:\n",
      "127.0.0.1\n",
      "127.0.0.1\n",
      "192.168.4.86\n"
     ]
    }
   ],
   "source": [
    "#x55. Write a Python program to find local IP addresses using Python's stdlib.\n",
    "import socket\n",
    "\n",
    "def get_local_ip():\n",
    "    ip_addresses = []\n",
    "    host_name = socket.gethostname()\n",
    "    ip_addresses.append(socket.gethostbyname(host_name))\n",
    "    ip_addresses.extend(socket.gethostbyname_ex(host_name)[2])\n",
    "    return ip_addresses\n",
    "\n",
    "local_ips = get_local_ip()\n",
    "print(\"Local IP addresses:\")\n",
    "for ip in local_ips:\n",
    "    print(ip)"
   ]
  },
  {
   "cell_type": "code",
   "execution_count": 3,
   "id": "392e0625",
   "metadata": {},
   "outputs": [
    {
     "name": "stdout",
     "output_type": "stream",
     "text": [
      "Unable to retrieve size\n"
     ]
    },
    {
     "name": "stderr",
     "output_type": "stream",
     "text": [
      "stty: stdin isn't a terminal\n"
     ]
    }
   ],
   "source": [
    "#56. Write a Python program to get the height and width of the console window.\n",
    "\n",
    "import os\n",
    "import shutil\n",
    "\n",
    "def get_console_size():\n",
    "    if os.name == 'nt':\n",
    "        size = shutil.get_terminal_size()\n",
    "        return size.columns, size.lines\n",
    "    else:\n",
    "        output = os.popen('stty size', 'r').read().split()\n",
    "        if len(output) == 2:\n",
    "            return int(output[0]), int(output[0])\n",
    "        \n",
    "    return None\n",
    "\n",
    "size = get_console_size()\n",
    "if size:\n",
    "    print(\"Console Width:\", size[0])\n",
    "    print(\"Console Height:\", size[1])\n",
    "    \n",
    "else:\n",
    "    print(\"Unable to retrieve size\")"
   ]
  },
  {
   "cell_type": "code",
   "execution_count": 8,
   "id": "7597cf2a",
   "metadata": {},
   "outputs": [
    {
     "name": "stdout",
     "output_type": "stream",
     "text": [
      "0.0001163482666015625 seconds\n"
     ]
    }
   ],
   "source": [
    "#57. Write a Python program to get the execution time of a Python method.\n",
    "\n",
    "import time\n",
    "\n",
    "start_time = time.time()\n",
    "\n",
    "def cal_fact(n):\n",
    "    if n == 1:\n",
    "        return n\n",
    "    else:\n",
    "        return n * cal_fact(n-1)\n",
    "    \n",
    "end = time.time()\n",
    "\n",
    "print(time.time() - start_time, \"seconds\")"
   ]
  },
  {
   "cell_type": "code",
   "execution_count": 30,
   "id": "58a72b75",
   "metadata": {},
   "outputs": [
    {
     "name": "stdout",
     "output_type": "stream",
     "text": [
      "enter the value of number of digits: 4\n",
      "Invalid choice\n"
     ]
    }
   ],
   "source": [
    "#58. Write a Python program to sum the first n positive integers.\n",
    "\n",
    "def num_sum(a):\n",
    "    \n",
    "    number_of_digits = input (\"enter the value of number of digits: \")\n",
    "    if len(str(a)) == number_of_digits and a > 0:\n",
    "        for i in a:\n",
    "            sum += i\n",
    "        print (sum)\n",
    "    else: \n",
    "        print(\"Invalid choice\")\n",
    "\n",
    "num_sum(3456)\n",
    "    "
   ]
  },
  {
   "cell_type": "code",
   "execution_count": null,
   "id": "a5af029e",
   "metadata": {},
   "outputs": [],
   "source": []
  }
 ],
 "metadata": {
  "kernelspec": {
   "display_name": "Python 3 (ipykernel)",
   "language": "python",
   "name": "python3"
  },
  "language_info": {
   "codemirror_mode": {
    "name": "ipython",
    "version": 3
   },
   "file_extension": ".py",
   "mimetype": "text/x-python",
   "name": "python",
   "nbconvert_exporter": "python",
   "pygments_lexer": "ipython3",
   "version": "3.10.9"
  }
 },
 "nbformat": 4,
 "nbformat_minor": 5
}
