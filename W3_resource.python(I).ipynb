{
 "cells": [
  {
   "cell_type": "code",
   "execution_count": 27,
   "id": "5ec1ac50",
   "metadata": {},
   "outputs": [
    {
     "name": "stdout",
     "output_type": "stream",
     "text": [
      "Twinkle, twinkle, little star, \n",
      " \tHow I wonder what you are! \n",
      "\t\tUp above the world so high, \n",
      "\t\tLike a diamond in the sky. \n",
      "Twinkle, twinkle, little star, \n",
      "\tHow I wonder what you are\n"
     ]
    }
   ],
   "source": [
    "# Write a Python program to print the following string in a specific format (see the output).\n",
    "\n",
    "print(\"Twinkle, twinkle, little star, \\n \\tHow I wonder what you are! \\n\\t\\tUp above the world so high, \\n\\t\\tLike a diamond in the sky. \\nTwinkle, twinkle, little star, \\n\\tHow I wonder what you are\")"
   ]
  },
  {
   "cell_type": "code",
   "execution_count": 28,
   "id": "d750fa9a",
   "metadata": {},
   "outputs": [
    {
     "name": "stdout",
     "output_type": "stream",
     "text": [
      "3.10.9 (main, Mar  1 2023, 12:20:14) [Clang 14.0.6 ]\n"
     ]
    }
   ],
   "source": [
    "#2. Write a Python program to find out what version of Python you are using.\n",
    "import sys\n",
    "import platform\n",
    "print(sys.version)"
   ]
  },
  {
   "cell_type": "code",
   "execution_count": 30,
   "id": "be82eec6",
   "metadata": {},
   "outputs": [
    {
     "name": "stdout",
     "output_type": "stream",
     "text": [
      "Current date and time: \n",
      "2023-05-13 18:44:50\n"
     ]
    }
   ],
   "source": [
    "#3. Write a Python program to display the current date and time.\n",
    "import datetime\n",
    "now = datetime.datetime.now()\n",
    "print(\"Current date and time: \")\n",
    "print(now.strftime(\"%Y-%m-%d %H:%M:%S\"))"
   ]
  },
  {
   "cell_type": "code",
   "execution_count": 32,
   "id": "b57ec5cd",
   "metadata": {},
   "outputs": [
    {
     "name": "stdout",
     "output_type": "stream",
     "text": [
      "Current date and time: \n",
      "2023-05-13 18:50:41.231725\n"
     ]
    }
   ],
   "source": [
    "import datetime\n",
    "\n",
    "e = datetime.datetime.now()\n",
    "\n",
    "print (\"Current date and time: \\n%s\" % e)"
   ]
  },
  {
   "cell_type": "code",
   "execution_count": 41,
   "id": "e8760534",
   "metadata": {},
   "outputs": [
    {
     "name": "stdout",
     "output_type": "stream",
     "text": [
      "3.7994000000000008\n"
     ]
    }
   ],
   "source": [
    "#4. Write a Python program that calculates the area of a circle based on the radius entered by the user.\n",
    "r = 1.1\n",
    "area = 3.14*r**2\n",
    "print(area)"
   ]
  },
  {
   "cell_type": "code",
   "execution_count": null,
   "id": "1b3a257c",
   "metadata": {},
   "outputs": [],
   "source": [
    "#5. Write a Python program that accepts the user's first and last name and prints them in reverse order with a space between them.\n",
    "first_name = input('Enter your first name\\n')\n",
    "last_name = input('Enter your last name\\n')\n",
    "print('Full_name: '+ last_name + \" \" + first_name)"
   ]
  },
  {
   "cell_type": "code",
   "execution_count": 50,
   "id": "4cf6297f",
   "metadata": {},
   "outputs": [
    {
     "name": "stdout",
     "output_type": "stream",
     "text": [
      "Enter four numbers seperated by commas: 3,4,5,6\n",
      "List:  ['3', '4', '5', '6']\n",
      "Tuple:  ('3', '4', '5', '6')\n"
     ]
    }
   ],
   "source": [
    "#6. Write a Python program that accepts a sequence of comma-separated numbers from the user and generates a list and a tuple of those numbers. Sample data : 3, 5, 7, 23\n",
    "numbers = input('Enter four numbers seperated by commas: ')\n",
    "\n",
    "if len(numbers) > 7 or len(numbers) < 4:\n",
    "    print('ATLEAST FOUR ELEMENTS!')\n",
    "else:\n",
    "    list = numbers.split(\",\")\n",
    "    tuple = tuple(list)\n",
    "    print('List: ',list)\n",
    "    print('Tuple: ',tuple)"
   ]
  },
  {
   "cell_type": "code",
   "execution_count": 65,
   "id": "6c541b7d",
   "metadata": {},
   "outputs": [
    {
     "name": "stdout",
     "output_type": "stream",
     "text": [
      "Enter a filename with its extension (.java,.py): shrey.java\n",
      "fileextension: java\n"
     ]
    }
   ],
   "source": [
    "#7. Write a Python program that accepts a filename from the user and prints the extension of the file.Sample filename : abc.java\n",
    "filename = input('Enter a filename with its extension (.java,.py): ')\n",
    "basename,extension = filename.split(\".\")\n",
    "print(\"fileextension:\",extension)"
   ]
  },
  {
   "cell_type": "code",
   "execution_count": 69,
   "id": "ae0c0bd3",
   "metadata": {},
   "outputs": [
    {
     "name": "stdout",
     "output_type": "stream",
     "text": [
      "Firstcolor: Red\n",
      "Lastcolor: Black\n"
     ]
    }
   ],
   "source": [
    "#8. Write a Python program to display the first and last colors from the following list.\n",
    "color_list = [\"Red\",\"Green\",\"White\" ,\"Black\"]\n",
    "color_list = [\"Red\",\"Green\",\"White\" ,\"Black\"]\n",
    "print(\"Firstcolor:\",color_list[0])\n",
    "print(\"Lastcolor:\",color_list[3])"
   ]
  },
  {
   "cell_type": "code",
   "execution_count": 92,
   "id": "ee91507e",
   "metadata": {},
   "outputs": [
    {
     "name": "stdout",
     "output_type": "stream",
     "text": [
      "The examination will start from:  11 / 12 / 2014\n"
     ]
    }
   ],
   "source": [
    "#9. Write a Python program to display the examination schedule. (extract the date from exam_st_date).exam_st_date = (11, 12, 2014)Sample Output : The examination will start from : 11 / 12 / 2014\n",
    "exam_st_date = (11, 12, 2014)\n",
    "month, day, year = (11, 12, 2014)\n",
    "print(\"The examination will start from: \",month,\"/\",day,\"/\",year)"
   ]
  },
  {
   "cell_type": "code",
   "execution_count": null,
   "id": "0bed57c0",
   "metadata": {},
   "outputs": [
    {
     "name": "stdout",
     "output_type": "stream",
     "text": [
      "Enter a numerical integer value: 5\n",
      "615\n"
     ]
    }
   ],
   "source": [
    "#10. Write a Python program that accepts an integer (n) and computes the value of n+nn+nnn.Sample value of n is 5\n",
    "n = input(\"Enter a numerical integer value: \")\n",
    "if n.isnumeric() == False:\n",
    "    print(\"Invalid!\")\n",
    "else:\n",
    "    t1 = n+n\n",
    "    t2 = n+n+n\n",
    "    res = int(n)+int(t1)+int(t2)\n",
    "    print(res)"
   ]
  },
  {
   "cell_type": "code",
   "execution_count": 6,
   "id": "22cf479e",
   "metadata": {},
   "outputs": [
    {
     "name": "stdout",
     "output_type": "stream",
     "text": [
      "Return the absolute value of the argument.\n",
      "Help on built-in function abs in module builtins:\n",
      "\n",
      "abs(x, /)\n",
      "    Return the absolute value of the argument.\n",
      "\n"
     ]
    }
   ],
   "source": [
    "#11. Write a Python program to print the documents (syntax, description etc.) of Python built-in function(s).Sample function : abs()\n",
    "print(abs.__doc__)\n",
    "help(abs)"
   ]
  },
  {
   "cell_type": "code",
   "execution_count": 10,
   "id": "2b9e90d9",
   "metadata": {},
   "outputs": [
    {
     "name": "stdout",
     "output_type": "stream",
     "text": [
      "     July 2023\n",
      "Mo Tu We Th Fr Sa Su\n",
      "                1  2\n",
      " 3  4  5  6  7  8  9\n",
      "10 11 12 13 14 15 16\n",
      "17 18 19 20 21 22 23\n",
      "24 25 26 27 28 29 30\n",
      "31\n",
      "\n",
      "                                  2023\n",
      "\n",
      "      January                   February                   March\n",
      "Mo Tu We Th Fr Sa Su      Mo Tu We Th Fr Sa Su      Mo Tu We Th Fr Sa Su\n",
      "                   1             1  2  3  4  5             1  2  3  4  5\n",
      " 2  3  4  5  6  7  8       6  7  8  9 10 11 12       6  7  8  9 10 11 12\n",
      " 9 10 11 12 13 14 15      13 14 15 16 17 18 19      13 14 15 16 17 18 19\n",
      "16 17 18 19 20 21 22      20 21 22 23 24 25 26      20 21 22 23 24 25 26\n",
      "23 24 25 26 27 28 29      27 28                     27 28 29 30 31\n",
      "30 31\n",
      "\n",
      "       April                      May                       June\n",
      "Mo Tu We Th Fr Sa Su      Mo Tu We Th Fr Sa Su      Mo Tu We Th Fr Sa Su\n",
      "                1  2       1  2  3  4  5  6  7                1  2  3  4\n",
      " 3  4  5  6  7  8  9       8  9 10 11 12 13 14       5  6  7  8  9 10 11\n",
      "10 11 12 13 14 15 16      15 16 17 18 19 20 21      12 13 14 15 16 17 18\n",
      "17 18 19 20 21 22 23      22 23 24 25 26 27 28      19 20 21 22 23 24 25\n",
      "24 25 26 27 28 29 30      29 30 31                  26 27 28 29 30\n",
      "\n",
      "        July                     August                  September\n",
      "Mo Tu We Th Fr Sa Su      Mo Tu We Th Fr Sa Su      Mo Tu We Th Fr Sa Su\n",
      "                1  2          1  2  3  4  5  6                   1  2  3\n",
      " 3  4  5  6  7  8  9       7  8  9 10 11 12 13       4  5  6  7  8  9 10\n",
      "10 11 12 13 14 15 16      14 15 16 17 18 19 20      11 12 13 14 15 16 17\n",
      "17 18 19 20 21 22 23      21 22 23 24 25 26 27      18 19 20 21 22 23 24\n",
      "24 25 26 27 28 29 30      28 29 30 31               25 26 27 28 29 30\n",
      "31\n",
      "\n",
      "      October                   November                  December\n",
      "Mo Tu We Th Fr Sa Su      Mo Tu We Th Fr Sa Su      Mo Tu We Th Fr Sa Su\n",
      "                   1             1  2  3  4  5                   1  2  3\n",
      " 2  3  4  5  6  7  8       6  7  8  9 10 11 12       4  5  6  7  8  9 10\n",
      " 9 10 11 12 13 14 15      13 14 15 16 17 18 19      11 12 13 14 15 16 17\n",
      "16 17 18 19 20 21 22      20 21 22 23 24 25 26      18 19 20 21 22 23 24\n",
      "23 24 25 26 27 28 29      27 28 29 30               25 26 27 28 29 30 31\n",
      "30 31\n",
      "\n"
     ]
    }
   ],
   "source": [
    "#12. Write a Python program that prints the calendar for a given month and year.Note : Use 'calendar' module.\n",
    "import calendar\n",
    "\n",
    "yy = 2023\n",
    "mm = 7\n",
    "\n",
    "#print calendar for a month\n",
    "print(calendar.month(yy,mm))\n",
    "\n",
    "#print calendar for a year\n",
    "print(calendar.calendar(2023))"
   ]
  },
  {
   "cell_type": "code",
   "execution_count": 11,
   "id": "651dec5f",
   "metadata": {},
   "outputs": [
    {
     "name": "stdout",
     "output_type": "stream",
     "text": [
      "a string that you \"don't\" have to escape\n",
      "This\n",
      "is a ....... multi-line\n",
      "heredoc string --------> example\n"
     ]
    }
   ],
   "source": [
    "#Write a Python program to print the following 'here document'.\n",
    "#Sample string :\n",
    "#a string that you \"don't\" have to escape\n",
    "#This\n",
    "#is a ....... multi-line\n",
    "#heredoc string --------> example\n",
    "\n",
    "print('''a string that you \"don't\" have to escape\n",
    "This\n",
    "is a ....... multi-line\n",
    "heredoc string --------> example''')"
   ]
  },
  {
   "cell_type": "code",
   "execution_count": 24,
   "id": "1558e101",
   "metadata": {},
   "outputs": [
    {
     "name": "stdout",
     "output_type": "stream",
     "text": [
      "(2014, 7, 2)\n",
      "(2014, 7, 12) \n",
      "\n",
      "10\n"
     ]
    }
   ],
   "source": [
    "#14. Write a Python program to calculate the number of days between two dates.\n",
    "#Sample dates : (2014, 7, 2), (2014, 7, 11)\n",
    "#Expected output : 9 days\n",
    "\n",
    "date1 = (2014,7,2)\n",
    "date2 = (2014,7,12)\n",
    "\n",
    "print(date1)\n",
    "print(date2,'\\n')\n",
    "\n",
    "if date1[2] > date2[2]:\n",
    "    result = int(date1[2]) - int(date2[2])\n",
    "    print(result)\n",
    "    \n",
    "elif date2[2] > date1[2]:\n",
    "    result = int(date2[2]) - int(date1[2]) \n",
    "    print(result)\n",
    "    \n",
    "else:\n",
    "    pass\n"
   ]
  },
  {
   "cell_type": "code",
   "execution_count": 37,
   "id": "4b525ee7",
   "metadata": {},
   "outputs": [
    {
     "name": "stdout",
     "output_type": "stream",
     "text": [
      "Enter the value of the radius: 5\n",
      "The volume of the sphere is: 523.6666666666666\n"
     ]
    }
   ],
   "source": [
    "#15. Write a Python program to get the volume of a sphere with radius six.\n",
    "# 101 // 4 = 25\n",
    "# 101 % 4 = 1\n",
    "\n",
    "r = int(input(\"Enter the value of the radius: \"))\n",
    "r_cube = r*r*r\n",
    "v = 4/3*3.142*(r_cube)\n",
    "print(f\"The volume of the sphere is: {v}\")\n"
   ]
  },
  {
   "cell_type": "code",
   "execution_count": 40,
   "id": "8696ed41",
   "metadata": {},
   "outputs": [
    {
     "name": "stdout",
     "output_type": "stream",
     "text": [
      "Enter an integer: 20\n",
      "3\n"
     ]
    }
   ],
   "source": [
    "#16. Write a Python program to calculate the difference between a given number and 17. If the number is greater than 17, return twice the absolute difference.\n",
    "given_number = int(input(\"Enter an integer: \"))\n",
    "if given_number < 17:\n",
    "    diff = 17 - given_number\n",
    "    print(diff)\n",
    "elif given_number > 17:\n",
    "    x = abs(17-given_number)\n",
    "    print(x)"
   ]
  },
  {
   "cell_type": "code",
   "execution_count": 51,
   "id": "47f88aa6",
   "metadata": {},
   "outputs": [
    {
     "name": "stdout",
     "output_type": "stream",
     "text": [
      "Enter an integer: 900\n",
      "Passed\n"
     ]
    }
   ],
   "source": [
    "#17. Write a Python program to test whether a number is within 100 of 1000 or 2000.\n",
    "number = int(input(\"Enter an integer: \"))\n",
    "if (1000 - number) == 100:\n",
    "    print(\"Passed\")\n",
    "elif (2000 - number) == 100:\n",
    "    print(\"Passed\")\n",
    "else: \n",
    "    print(\"Failed\")"
   ]
  },
  {
   "cell_type": "code",
   "execution_count": 4,
   "id": "759d1b7b",
   "metadata": {},
   "outputs": [
    {
     "name": "stdout",
     "output_type": "stream",
     "text": [
      "Enter the first number: 3\n",
      "Enter the second number: 3\n",
      "Enter the third number: 3\n",
      "The sum of the three numbers is: 9\n",
      "Sum:  27\n"
     ]
    }
   ],
   "source": [
    "#18. Write a Python program to calculate the sum of three given numbers. If the values are equal, return three times their sum.\n",
    "a = int(input(\"Enter the first number: \"))\n",
    "b = int(input(\"Enter the second number: \"))\n",
    "c = int(input(\"Enter the third number: \"))\n",
    "\n",
    "result = a+b+c\n",
    "print(f\"The sum of the three numbers is: {result}\")\n",
    "\n",
    "if a==b and b==c:\n",
    "    print(\"Sum: \",result*3)"
   ]
  },
  {
   "cell_type": "code",
   "execution_count": 5,
   "id": "005849e0",
   "metadata": {},
   "outputs": [
    {
     "name": "stdout",
     "output_type": "stream",
     "text": [
      "IsArray\n",
      "IsEmpty\n"
     ]
    }
   ],
   "source": [
    "#19. Write a Python program to get a newly-generated string from a given string where \"Is\" has been added to the front. Return the string unchanged if the given string already begins with \"Is\".\n",
    "def new_string(text):\n",
    "    if len(text) >= 2 and text [:2] == \"Is\":\n",
    "        return text\n",
    "    return \"Is\" + text\n",
    "print(new_string(\"Array\"))\n",
    "print(new_string(\"IsEmpty\"))"
   ]
  },
  {
   "cell_type": "code",
   "execution_count": 17,
   "id": "9936a1fc",
   "metadata": {},
   "outputs": [
    {
     "name": "stdout",
     "output_type": "stream",
     "text": [
      "Enter the number of times the string should repeat(positive): 2\n",
      "Three copies of string look like this:  12341234\n",
      "None\n"
     ]
    }
   ],
   "source": [
    "#20. Write a Python program that returns a string that is n (non-negative integer) copies of a given string.\n",
    "def number(string):\n",
    "    n = int(input(\"Enter the number of times the string should repeat(positive): \"))\n",
    "    if n > 0:\n",
    "        pass\n",
    "    else:\n",
    "        return \"Invalid number\"\n",
    "    print(\"Three copies of string look like this: \",string*n)\n",
    "    \n",
    "print(number(\"1234\"))        "
   ]
  },
  {
   "cell_type": "code",
   "execution_count": 32,
   "id": "c8d59719",
   "metadata": {},
   "outputs": [
    {
     "name": "stdout",
     "output_type": "stream",
     "text": [
      "Enter a positive integer: shrey\n"
     ]
    },
    {
     "ename": "ValueError",
     "evalue": "invalid literal for int() with base 10: 'shrey'",
     "output_type": "error",
     "traceback": [
      "\u001b[0;31m---------------------------------------------------------------------------\u001b[0m",
      "\u001b[0;31mValueError\u001b[0m                                Traceback (most recent call last)",
      "Cell \u001b[0;32mIn[32], line 2\u001b[0m\n\u001b[1;32m      1\u001b[0m \u001b[38;5;66;03m#21. Write a Python program that determines whether a given number (accepted from the user) is even or odd, and prints an appropriate message to the user.\u001b[39;00m\n\u001b[0;32m----> 2\u001b[0m number \u001b[38;5;241m=\u001b[39m \u001b[38;5;28;43mint\u001b[39;49m\u001b[43m(\u001b[49m\u001b[38;5;28;43minput\u001b[39;49m\u001b[43m(\u001b[49m\u001b[38;5;124;43m\"\u001b[39;49m\u001b[38;5;124;43mEnter a positive integer: \u001b[39;49m\u001b[38;5;124;43m\"\u001b[39;49m\u001b[43m)\u001b[49m\u001b[43m)\u001b[49m\n\u001b[1;32m      4\u001b[0m \u001b[38;5;28;01mif\u001b[39;00m number \u001b[38;5;241m<\u001b[39m\u001b[38;5;241m=\u001b[39m \u001b[38;5;241m0\u001b[39m:\n\u001b[1;32m      5\u001b[0m     \u001b[38;5;28mprint\u001b[39m(\u001b[38;5;124m\"\u001b[39m\u001b[38;5;124mInvalid choice!\u001b[39m\u001b[38;5;124m\"\u001b[39m)\n",
      "\u001b[0;31mValueError\u001b[0m: invalid literal for int() with base 10: 'shrey'"
     ]
    }
   ],
   "source": [
    "#21. Write a Python program that determines whether a given number (accepted from the user) is even or odd, and prints an appropriate message to the user.\n",
    "number = int(input(\"Enter a positive integer: \"))\n",
    "\n",
    "if number <= 0:\n",
    "    print(\"Invalid choice!\")\n",
    "elif number%2 == 0:\n",
    "    print(\"Even number\")\n",
    "else:\n",
    "    print(\"Odd number\")"
   ]
  },
  {
   "cell_type": "code",
   "execution_count": null,
   "id": "9cb8132b",
   "metadata": {},
   "outputs": [],
   "source": [
    "#22. Write a Python program to count the number 4 in a given list.\n",
    "List = list(input(\"Enter a list of characters: \"))\n",
    "print(List)\n",
    "count = 0\n",
    "for i in List:\n",
    "    if i == 4:\n",
    "        count = count + 1\n",
    "print (count)\n",
    "        "
   ]
  },
  {
   "cell_type": "code",
   "execution_count": 65,
   "id": "1b0cc07a",
   "metadata": {},
   "outputs": [
    {
     "name": "stdout",
     "output_type": "stream",
     "text": [
      "1\n",
      "3\n"
     ]
    }
   ],
   "source": [
    "def list_count_4(nums):\n",
    "  count = 0  \n",
    "  for num in nums:\n",
    "    if num == 4:\n",
    "      count = count + 1\n",
    "\n",
    "  return count\n",
    "\n",
    "print(list_count_4([1, 4, 6, 7, 2]))\n",
    "print(list_count_4([1, 4, 6, 4, 7, 4]))"
   ]
  },
  {
   "cell_type": "code",
   "execution_count": 24,
   "id": "b8ce02ec",
   "metadata": {},
   "outputs": [
    {
     "name": "stdout",
     "output_type": "stream",
     "text": [
      "Enter a positive number of copies: 3\n",
      "Enter any string: p\n",
      "ppp\n"
     ]
    }
   ],
   "source": [
    "#23. Write a Python program to get n (non-negative integer) copies of the first 2 characters of a given string. Return n copies of the whole string if the length is less than 2.\n",
    "copies = int(input(\"Enter a positive number of copies: \"))\n",
    "word = str(input(\"Enter any string: \"))\n",
    "if copies < 0 or copies == 0:\n",
    "    print(\"Invalid choice!\")\n",
    "else:\n",
    "    pass\n",
    "\n",
    "    if len(word) < 2:\n",
    "        print(copies*word)\n",
    "    \n",
    "    elif len(word) >= 2:\n",
    "        print(copies*(word[0]),copies*(word[1]))\n",
    "    else:\n",
    "        pass\n",
    "    "
   ]
  },
  {
   "cell_type": "code",
   "execution_count": 42,
   "id": "a8db2759",
   "metadata": {},
   "outputs": [
    {
     "name": "stdout",
     "output_type": "stream",
     "text": [
      "Enter a single letter: e\n",
      "e is a vowel\n"
     ]
    }
   ],
   "source": [
    "#24. Write a Python program to test whether a passed letter is a vowel or not.\n",
    "word = input(\"Enter a single letter: \")\n",
    "if len(word) > 1:\n",
    "    print(\"Invalid choice!\")\n",
    "else:\n",
    "    pass\n",
    "    if word in ('a','e','i','o','u','A','E','I','O','U'):\n",
    "        print(word + \" is a vowel\")\n",
    "    else:\n",
    "        print(\"consonant\")"
   ]
  },
  {
   "cell_type": "code",
   "execution_count": 104,
   "id": "78b65471",
   "metadata": {},
   "outputs": [
    {
     "name": "stdout",
     "output_type": "stream",
     "text": [
      "Enter four numbers: 1234\n",
      "[ 1 , 2 , 3 , 4 ]\n",
      "False\n"
     ]
    }
   ],
   "source": [
    "#25. Write a Python program that checks whether a specified value is contained within a group of values.\n",
    "#Test Data :\n",
    "#3 -> [1, 5, 8, 3] : True\n",
    "#-1 -> [1, 5, 8, 3] : False\n",
    "\n",
    "values = input(\"Enter four numbers: \")\n",
    "if len(values) < 4 or values.isdigit() == False:\n",
    "    print(\"Four digits only!\")\n",
    "else:\n",
    "    pass\n",
    "\n",
    "          \n",
    "    print (\"[\",values[0],\",\",values[1],\",\",values[2],\",\",values[3],\"]\") \n",
    "    #num = input(\"Input a single number to check if it exists in the list: \")\n",
    "    if len(num) > 1 or num.isdigit() == False:\n",
    "        print(\"Single digit only!\")\n",
    "    elif (str(7) in values):\n",
    "        print(\"True\")\n",
    "    else:\n",
    "        print(\"False\")"
   ]
  },
  {
   "cell_type": "code",
   "execution_count": null,
   "id": "4d0dbc3d",
   "metadata": {},
   "outputs": [],
   "source": []
  },
  {
   "cell_type": "code",
   "execution_count": 126,
   "id": "d692d6b6",
   "metadata": {},
   "outputs": [
    {
     "name": "stdout",
     "output_type": "stream",
     "text": [
      "***\n",
      "******\n",
      "**\n",
      "*****\n"
     ]
    }
   ],
   "source": [
    "#26. Write a Python program to create a histogram from a given list of integers.\n",
    "def histogram(x):\n",
    "    for num in x:\n",
    "        # Print '*' the number of times specified by the integer\n",
    "        print('*' * num)\n",
    "\n",
    "# Example usage:\n",
    "numbers = [3, 6, 2, 5]\n",
    "histogram(numbers)"
   ]
  },
  {
   "cell_type": "code",
   "execution_count": 136,
   "id": "4742bca2",
   "metadata": {},
   "outputs": [
    {
     "name": "stdout",
     "output_type": "stream",
     "text": [
      "shrey\n"
     ]
    }
   ],
   "source": [
    "#27. Write a Python program that concatenates all elements in a list into a string and returns it.\n",
    "def concat(x):\n",
    "    result = ''\n",
    "    for i in x:\n",
    "         result = result + i\n",
    "    print(result)\n",
    "        \n",
    "words = ['s','h','r','e','y']\n",
    "concat(words)"
   ]
  },
  {
   "cell_type": "code",
   "execution_count": 147,
   "id": "ff275b1f",
   "metadata": {},
   "outputs": [
    {
     "name": "stdout",
     "output_type": "stream",
     "text": [
      "386\n",
      "462\n",
      "418\n",
      "344\n",
      "236\n",
      "566\n",
      "978\n",
      "328\n",
      "162\n",
      "758\n",
      "918\n"
     ]
    }
   ],
   "source": [
    "#28. Write a Python program to print all even numbers from a given list of numbers in the same order and stop printing any after 237 in the sequence.\n",
    "#Sample numbers list :\n",
    "\n",
    "numbers = [    \n",
    "    386, 462, 47, 418, 907, 344, 236, 375, 823, 566, 597, 978, 328, 615, 953, 345, \n",
    "    399, 162, 758, 219, 918, 237, 412, 566, 826, 248, 866, 950, 626, 949, 687, 217, \n",
    "    815, 67, 104, 58, 512, 24, 892, 894, 767, 553, 81, 379, 843, 831, 445, 742, 717, \n",
    "    958,743, 527 ]\n",
    "\n",
    "for i in numbers:\n",
    "    if i == 237:\n",
    "        break\n",
    "    if i%2 == 0:\n",
    "        print(i) "
   ]
  },
  {
   "cell_type": "code",
   "execution_count": 157,
   "id": "a290120b",
   "metadata": {},
   "outputs": [
    {
     "name": "stdout",
     "output_type": "stream",
     "text": [
      "{'White', 'Black'}\n"
     ]
    }
   ],
   "source": [
    "#Write a Python program that prints out all colors from color_list_1 that are not present in color_list_2.\n",
    "color_list_1 = set([\"White\", \"Black\", \"Red\"])\n",
    "color_list_2 = set([\"Red\", \"Green\"])\n",
    "\n",
    "result = color_list_1 - color_list_2\n",
    "\n",
    "print(result)"
   ]
  },
  {
   "cell_type": "code",
   "execution_count": 160,
   "id": "a5ed60d7",
   "metadata": {},
   "outputs": [
    {
     "name": "stdout",
     "output_type": "stream",
     "text": [
      "Enter the base of a triangle: 4\n",
      "Enter the height of a triangle: 5\n",
      "10.0\n"
     ]
    }
   ],
   "source": [
    "#30. Write a Python program that will accept the base and height of a triangle and compute its area\n",
    "base = int(input(\"Enter the base of a triangle: \"))\n",
    "height = int(input(\"Enter the height of a triangle: \"))\n",
    "area = 0.5*base*height\n",
    "print(area)"
   ]
  },
  {
   "cell_type": "code",
   "execution_count": 8,
   "id": "4950a55e",
   "metadata": {},
   "outputs": [
    {
     "name": "stdout",
     "output_type": "stream",
     "text": [
      "Enter integer 1: 60\n",
      "Enter integer 2: 48\n",
      "The GCD of integer 1 and integer 2 is: 12\n"
     ]
    }
   ],
   "source": [
    "#31. Write a Python program that computes the greatest common divisor (GCD) of two positive integers.\n",
    "import math\n",
    "num1 = int(input(\"Enter integer 1: \"))\n",
    "num2 = int(input(\"Enter integer 2: \"))\n",
    "if num1 <= 0 or num2 <= 0:\n",
    "    print(\"Enter positive integers only!\")\n",
    "else:\n",
    "    print(\"The GCD of integer 1 and integer 2 is:\",math.gcd(num1,num2))\n"
   ]
  },
  {
   "cell_type": "code",
   "execution_count": 10,
   "id": "b5a8005c",
   "metadata": {},
   "outputs": [
    {
     "name": "stdout",
     "output_type": "stream",
     "text": [
      "The sum is: 0\n"
     ]
    }
   ],
   "source": [
    "#33. Write a Python program to sum three given integers. However, if two values are equal, the sum will be zero.\n",
    "num1 = 4\n",
    "num2 = 4\n",
    "num3 = 7\n",
    "if num1 == num2 or num1 == num3 or num2 == num3:\n",
    "    print(\"The sum is: 0\")\n",
    "else:\n",
    "    print(\"The sum is:\",(num1+num2+num3))"
   ]
  },
  {
   "cell_type": "code",
   "execution_count": 13,
   "id": "d74659a8",
   "metadata": {},
   "outputs": [
    {
     "name": "stdout",
     "output_type": "stream",
     "text": [
      "7\n"
     ]
    }
   ],
   "source": [
    "#34. Write a Python program to sum two given integers. However, if the sum is between 15 and 20 it will return 20.\n",
    "def sum_num(a,b):\n",
    "    add = a + b\n",
    "    if add >= 15 and add <=20:\n",
    "        return 20\n",
    "    else:\n",
    "        print(add)\n",
    "sum_num(10,5)\n",
    "sum_num(3,4)"
   ]
  },
  {
   "cell_type": "code",
   "execution_count": 17,
   "id": "e259973a",
   "metadata": {},
   "outputs": [
    {
     "data": {
      "text/plain": [
       "True"
      ]
     },
     "execution_count": 17,
     "metadata": {},
     "output_type": "execute_result"
    }
   ],
   "source": [
    "#35. Write a Python program that returns true if the two given integer values are equal or their sum or difference is 5.\n",
    "def num(a,b):\n",
    "    add = a+b\n",
    "    sub = abs(a-b)\n",
    "    if a == b or add == 5 or sub == 5:\n",
    "        return True\n",
    "    else:\n",
    "        return False\n",
    "num(4,7)\n",
    "num(10,5)"
   ]
  },
  {
   "cell_type": "code",
   "execution_count": 22,
   "id": "f8f0f989",
   "metadata": {},
   "outputs": [
    {
     "data": {
      "text/plain": [
       "5"
      ]
     },
     "execution_count": 22,
     "metadata": {},
     "output_type": "execute_result"
    }
   ],
   "source": [
    "#36. Write a Python program to add two objects if both objects are integers.\n",
    "def objects(a,b):\n",
    "    if type(a) == int and type(b) == int:\n",
    "        return a+b\n",
    "    else:\n",
    "        return False\n",
    "objects(2.5,3)\n",
    "objects(2,3)"
   ]
  },
  {
   "cell_type": "code",
   "execution_count": 34,
   "id": "9ced7d16",
   "metadata": {},
   "outputs": [
    {
     "name": "stdout",
     "output_type": "stream",
     "text": [
      "Enter your name: Shrey\n",
      "Enter your age: 26\n",
      "Enter your address: 6201\n",
      "Name: Shrey\n",
      "Age: 26\n",
      "Address: 6201\n"
     ]
    }
   ],
   "source": [
    "#37. Write a Python program that displays your name, age, and address on three different lines.\n",
    "name = input(\"Enter your name: \")\n",
    "age = input(\"Enter your age: \")\n",
    "address = input(\"Enter your address: \")\n",
    "\n",
    "#print(\"The name is: \" +name+ \"\\n\",\"The age is: \" +age+ \"\\n\",\"The address is: \" +address)\n",
    "print(f\"Name: {name}\\nAge: {age}\\nAddress: {address}\")"
   ]
  },
  {
   "cell_type": "code",
   "execution_count": 37,
   "id": "5e04125f",
   "metadata": {},
   "outputs": [
    {
     "name": "stdout",
     "output_type": "stream",
     "text": [
      "(4 + 3) ^ 2) = 49\n"
     ]
    }
   ],
   "source": [
    "#38. Write a Python program to solve (x + y) * (x + y).\n",
    "#Test Data : x = 4, y = 3\n",
    "#Expected Output : (4 + 3) ^ 2) = 49\n",
    "\n",
    "def solve(x,y):\n",
    "    a = x + y\n",
    "    result = a*a\n",
    "    print(f\"({x} + {y}) ^ 2) = {result}\")\n",
    "solve(4,3)    "
   ]
  },
  {
   "cell_type": "code",
   "execution_count": 66,
   "id": "fc01621d",
   "metadata": {},
   "outputs": [
    {
     "name": "stdout",
     "output_type": "stream",
     "text": [
      "12722.79\n"
     ]
    }
   ],
   "source": [
    "#39. Write a Python program to compute the future value of a specified principal amount, rate of interest, and number of years.\n",
    "#Test Data : amt = 10000, int = 3.5, years = 7\n",
    "#Expected Output : 12722.79\n",
    "\n",
    "def value(amount,rate,years):\n",
    "    future_value = amount*((1+(rate/100)) ** years)\n",
    "    print(round(future_value,2))\n",
    "\n",
    "value(10000,3.5,7)"
   ]
  },
  {
   "cell_type": "code",
   "execution_count": 71,
   "id": "4bc2afa7",
   "metadata": {},
   "outputs": [
    {
     "name": "stdout",
     "output_type": "stream",
     "text": [
      "39.4\n"
     ]
    }
   ],
   "source": [
    "#40. Write a Python program to calculate the distance between the points (x1, y1) and (x2, y2).\n",
    "import math\n",
    "\n",
    "def distance(x1, y1, x2, y2):\n",
    "    distance = math.sqrt((x2 - x1)**2 + (y2 - y1)**2)\n",
    "    print(round(distance,2))\n",
    "distance(4,10,20,46)"
   ]
  },
  {
   "cell_type": "code",
   "execution_count": 73,
   "id": "6ac29ac5",
   "metadata": {},
   "outputs": [
    {
     "name": "stdout",
     "output_type": "stream",
     "text": [
      "Enter the file path: main.py\n",
      "The file does not exist\n"
     ]
    }
   ],
   "source": [
    "# 41. Write a Python program to check whether a file exists.\n",
    "\n",
    "import os\n",
    "\n",
    "def check_file_exists(file_path):\n",
    "    if os.path.isfile(file_path):\n",
    "        return True\n",
    "    else:\n",
    "        return False\n",
    "    \n",
    "file_path = input(\"Enter the file path: \")\n",
    "\n",
    "if check_file_exists(file_path):\n",
    "    print(\"the file exists\")\n",
    "else:\n",
    "    print(\"The file does not exist\")\n"
   ]
  },
  {
   "cell_type": "code",
   "execution_count": 4,
   "id": "2209ea48",
   "metadata": {},
   "outputs": [
    {
     "name": "stdout",
     "output_type": "stream",
     "text": [
      "64-bit it is!\n"
     ]
    }
   ],
   "source": [
    "#42. Write a Python program to determine if a Python shell is executing in 32bit or 64bit mode on OS.\n",
    "\n",
    "import platform\n",
    "\n",
    "def check_python_bitness():\n",
    "    if platform.architecture()[0] == '32bit':\n",
    "        print(\"32-bit it is!\")\n",
    "    elif platform.architecture()[0] == '64bit':\n",
    "        print(\"64-bit it is!\")\n",
    "    else: \n",
    "        print(\"IDK\")\n",
    "    \n",
    "check_python_bitness()"
   ]
  },
  {
   "cell_type": "code",
   "execution_count": 2,
   "id": "5e0fdaa0",
   "metadata": {},
   "outputs": [
    {
     "name": "stdout",
     "output_type": "stream",
     "text": [
      "64\n"
     ]
    }
   ],
   "source": [
    "#42\n",
    "\n",
    "import struct\n",
    "print(struct.calcsize(\"P\") * 8)"
   ]
  },
  {
   "cell_type": "code",
   "execution_count": 5,
   "id": "0e48396b",
   "metadata": {},
   "outputs": [
    {
     "name": "stdout",
     "output_type": "stream",
     "text": [
      "64bit\n"
     ]
    }
   ],
   "source": [
    "#42\n",
    "import platform\n",
    "print(platform.architecture()[0])"
   ]
  },
  {
   "cell_type": "code",
   "execution_count": 11,
   "id": "f9d478ec",
   "metadata": {},
   "outputs": [
    {
     "name": "stdout",
     "output_type": "stream",
     "text": [
      "The OS name is: posix\n",
      "The system version and platform information: 22.5.0\n"
     ]
    }
   ],
   "source": [
    "43 #Write a Python program to get OS name, platform and release information.\n",
    "import platform\n",
    "import os\n",
    "print(\"The OS name is:\",os.name)\n",
    "print(\"The system version and platform information:\",platform.release())"
   ]
  },
  {
   "cell_type": "code",
   "execution_count": 12,
   "id": "afaefe92",
   "metadata": {},
   "outputs": [
    {
     "name": "stdout",
     "output_type": "stream",
     "text": [
      "Site packages are located at:\n",
      "/Users/shrey/Desktop/Python/anaconda3/lib/python3.10/site-packages\n"
     ]
    }
   ],
   "source": [
    "#44. Write a Python program to locate Python site packages.\n",
    "\n",
    "import site\n",
    "\n",
    "def locat_site_packages():\n",
    "    site_package_path = site.getsitepackages()\n",
    "    print(\"Site packages are located at:\")\n",
    "    for path in site_package_path:\n",
    "        print(path)\n",
    "locat_site_packages()"
   ]
  },
  {
   "cell_type": "code",
   "execution_count": 15,
   "id": "50c328e6",
   "metadata": {},
   "outputs": [
    {
     "name": "stdout",
     "output_type": "stream",
     "text": [
      "total 184\n",
      "-rw-r--r--  1 shrey  staff   3103 May  8 19:29 Basic_math.ipynb\n",
      "-rw-r--r--  1 shrey  staff   6862 May 13 16:47 Dictionary.ipynb\n",
      "-rw-r--r--  1 shrey  staff   6508 May 11 22:05 Lists.ipynb\n",
      "-rw-r--r--  1 shrey  staff   3659 May 11 20:14 Print formatting with strings.ipynb\n",
      "-rw-r--r--  1 shrey  staff   3744 May 13 18:09 Sets.ipynb\n",
      "-rw-r--r--  1 shrey  staff  11827 May 10 08:01 Strings.ipynb\n",
      "-rw-r--r--  1 shrey  staff   4133 May 13 17:14 Tuples.ipynb\n",
      "-rw-r--r--  1 shrey  staff   3601 May 10 06:41 Variable assignments.ipynb\n",
      "-rw-r--r--  1 shrey  staff  35842 Jun  7 06:50 W3_resource.python(I).ipynb\n",
      "-rw-r--r--@ 1 shrey  staff     21 May  8 19:16 print(\"hello world\").py\n"
     ]
    },
    {
     "data": {
      "text/plain": [
       "0"
      ]
     },
     "execution_count": 15,
     "metadata": {},
     "output_type": "execute_result"
    }
   ],
   "source": [
    "#45. Write a Python program that calls an external command.\n",
    "from subprocess import call\n",
    "call([\"ls\", \"-l\"])"
   ]
  },
  {
   "cell_type": "code",
   "execution_count": 25,
   "id": "fd178230",
   "metadata": {},
   "outputs": [
    {
     "name": "stdout",
     "output_type": "stream",
     "text": [
      "/Users/shrey/Desktop/Python/My Python Stuff\n",
      "0\n"
     ]
    }
   ],
   "source": [
    "#45\n",
    "import os\n",
    "print(os.system('pwd'))"
   ]
  },
  {
   "cell_type": "code",
   "execution_count": 19,
   "id": "cb64e2cc",
   "metadata": {},
   "outputs": [
    {
     "ename": "NameError",
     "evalue": "name 'abc' is not defined",
     "output_type": "error",
     "traceback": [
      "\u001b[0;31m---------------------------------------------------------------------------\u001b[0m",
      "\u001b[0;31mNameError\u001b[0m                                 Traceback (most recent call last)",
      "Cell \u001b[0;32mIn[19], line 3\u001b[0m\n\u001b[1;32m      1\u001b[0m \u001b[38;5;66;03m#46. Write a Python program to retrieve the path and name of the file currently being executed.\u001b[39;00m\n\u001b[1;32m      2\u001b[0m \u001b[38;5;28;01mimport\u001b[39;00m \u001b[38;5;21;01mos\u001b[39;00m\n\u001b[0;32m----> 3\u001b[0m \u001b[38;5;28mprint\u001b[39m(\u001b[38;5;124m\"\u001b[39m\u001b[38;5;124mCurrent file name: \u001b[39m\u001b[38;5;124m\"\u001b[39m,os\u001b[38;5;241m.\u001b[39mpath\u001b[38;5;241m.\u001b[39mrealpath(\u001b[43mabc\u001b[49m))\n",
      "\u001b[0;31mNameError\u001b[0m: name 'abc' is not defined"
     ]
    }
   ],
   "source": [
    "#46. Write a Python program to retrieve the path and name of the file currently being executed.\n",
    "import os\n",
    "print(\"Current file name: \",os.path.realpath(abc))"
   ]
  },
  {
   "cell_type": "code",
   "execution_count": 21,
   "id": "bebedeb6",
   "metadata": {},
   "outputs": [
    {
     "name": "stdout",
     "output_type": "stream",
     "text": [
      "The number of CPUs being used are: 8\n"
     ]
    }
   ],
   "source": [
    "#47. Write a Python program to find out the number of CPUs used.\n",
    "import os\n",
    "print(\"The number of CPUs being used are:\",os.cpu_count())"
   ]
  },
  {
   "cell_type": "code",
   "execution_count": 23,
   "id": "ec6f28d9",
   "metadata": {},
   "outputs": [
    {
     "name": "stdout",
     "output_type": "stream",
     "text": [
      "1234.0\n",
      "1234\n"
     ]
    }
   ],
   "source": [
    "#48. Write a Python program to parse a string to float or integer.\n",
    "string_char = \"1234\"\n",
    "print(float(string_char))\n",
    "print(int(string_char))"
   ]
  },
  {
   "cell_type": "code",
   "execution_count": 35,
   "id": "f99ce7de",
   "metadata": {},
   "outputs": [
    {
     "name": "stdout",
     "output_type": "stream",
     "text": [
      "/Users/shrey/Desktop/Python/My Python Stuff\n",
      "['Sets.ipynb', 'Variable assignments.ipynb', 'Lists.ipynb', 'Dictionary.ipynb', 'Tuples.ipynb', 'Basic_math.ipynb', '.ipynb_checkpoints', 'Strings.ipynb', 'print(\"hello world\").py', 'Print formatting with strings.ipynb', 'W3_resource.python(I).ipynb']\n"
     ]
    }
   ],
   "source": [
    "#49. Write a Python program to list all files in a directory.\n",
    "import os\n",
    "path = os.system('pwd')\n",
    "arr = os.listdir('/Users/shrey/Desktop/Python/My Python Stuff')\n",
    "print(arr)"
   ]
  },
  {
   "cell_type": "code",
   "execution_count": 40,
   "id": "abc18d19",
   "metadata": {},
   "outputs": [
    {
     "name": "stdout",
     "output_type": "stream",
     "text": [
      "Hello!\n",
      "Hello\n",
      "!\n"
     ]
    }
   ],
   "source": [
    "#50. Write a Python program to print without a newline or space.\n",
    "print(\"Hello\", end='')\n",
    "print(\"!\")\n",
    "\n",
    "print(\"Hello\")\n",
    "print(\"!\")\n",
    "\n",
    "#To print without a newline or space in Python, you can use the end parameter of the print() function. By default, the end parameter is set to '\\n', which adds a newline character at the end of the printed content. However, you can change it to an empty string to remove the newline character."
   ]
  },
  {
   "cell_type": "code",
   "execution_count": 1,
   "id": "55f47595",
   "metadata": {},
   "outputs": [
    {
     "name": "stdout",
     "output_type": "stream",
     "text": [
      "3\n",
      "         29 function calls in 0.000 seconds\n",
      "\n",
      "   Ordered by: standard name\n",
      "\n",
      "   ncalls  tottime  percall  cumtime  percall filename:lineno(function)\n",
      "        1    0.000    0.000    0.000    0.000 3067641528.py:5(sum)\n",
      "        1    0.000    0.000    0.000    0.000 <string>:1(<module>)\n",
      "        1    0.000    0.000    0.000    0.000 iostream.py:202(schedule)\n",
      "        2    0.000    0.000    0.000    0.000 iostream.py:437(_is_master_process)\n",
      "        2    0.000    0.000    0.000    0.000 iostream.py:456(_schedule_flush)\n",
      "        2    0.000    0.000    0.000    0.000 iostream.py:526(write)\n",
      "        1    0.000    0.000    0.000    0.000 iostream.py:90(_event_pipe)\n",
      "        1    0.000    0.000    0.000    0.000 socket.py:543(send)\n",
      "        1    0.000    0.000    0.000    0.000 threading.py:1102(_wait_for_tstate_lock)\n",
      "        1    0.000    0.000    0.000    0.000 threading.py:1169(is_alive)\n",
      "        1    0.000    0.000    0.000    0.000 threading.py:553(is_set)\n",
      "        1    0.000    0.000    0.000    0.000 {built-in method builtins.exec}\n",
      "        2    0.000    0.000    0.000    0.000 {built-in method builtins.isinstance}\n",
      "        2    0.000    0.000    0.000    0.000 {built-in method builtins.len}\n",
      "        1    0.000    0.000    0.000    0.000 {built-in method builtins.print}\n",
      "        2    0.000    0.000    0.000    0.000 {built-in method posix.getpid}\n",
      "        2    0.000    0.000    0.000    0.000 {method '__exit__' of '_thread.RLock' objects}\n",
      "        1    0.000    0.000    0.000    0.000 {method 'acquire' of '_thread.lock' objects}\n",
      "        1    0.000    0.000    0.000    0.000 {method 'append' of 'collections.deque' objects}\n",
      "        1    0.000    0.000    0.000    0.000 {method 'disable' of '_lsprof.Profiler' objects}\n",
      "        2    0.000    0.000    0.000    0.000 {method 'write' of '_io.StringIO' objects}\n",
      "\n",
      "\n"
     ]
    }
   ],
   "source": [
    "#51. Write a Python program to determine the profiling of Python programs.\n",
    "#Note: A profile is a set of statistics that describes how often and for how long various parts of the program executed. These statistics can be formatted into reports via the pstats module.\n",
    "\n",
    "import cProfile\n",
    "def sum():\n",
    "    print(1+2)\n",
    "cProfile.run('sum()')"
   ]
  },
  {
   "cell_type": "code",
   "execution_count": 3,
   "id": "4d54a4b9",
   "metadata": {},
   "outputs": [
    {
     "name": "stdout",
     "output_type": "stream",
     "text": [
      "Enter the string you want to print to stderr: error\n"
     ]
    },
    {
     "name": "stderr",
     "output_type": "stream",
     "text": [
      "error\n"
     ]
    }
   ],
   "source": [
    "#52. Write a Python program to print to STDERR.\n",
    "\n",
    "import sys\n",
    "x = input(\"Enter the string you want to print to stderr: \")\n",
    "print(x, file = sys.stderr)"
   ]
  },
  {
   "cell_type": "code",
   "execution_count": 6,
   "id": "c4de589c",
   "metadata": {},
   "outputs": [
    {
     "name": "stderr",
     "output_type": "stream",
     "text": [
      "abc---efg---xyz\n"
     ]
    }
   ],
   "source": [
    "#52\n",
    "\n",
    "#from __future__ import print_function\n",
    "import sys\n",
    "\n",
    "def eprint(*args, **kwargs):\n",
    "    print(*args, file=sys.stderr, **kwargs)\n",
    "    \n",
    "eprint(\"abc\", \"efg\", \"xyz\", sep=\"---\")"
   ]
  },
  {
   "cell_type": "code",
   "execution_count": 9,
   "id": "9092c49e",
   "metadata": {},
   "outputs": [
    {
     "name": "stdout",
     "output_type": "stream",
     "text": [
      "SHELL: /bin/zsh\n",
      "All env. variables:\n",
      "TERM_PROGRAM: Apple_Terminal\n",
      "SHELL: /bin/zsh\n",
      "TERM: xterm-color\n",
      "TMPDIR: /var/folders/09/htp7pg_d4ms_dsv0z1rm28q80000gn/T/\n",
      "CONDA_SHLVL: 1\n",
      "CONDA_PROMPT_MODIFIER: (base) \n",
      "TERM_PROGRAM_VERSION: 447\n",
      "TERM_SESSION_ID: 66B094E1-6072-406C-BEDC-9B88DF718DC2\n",
      "USER: shrey\n",
      "CONDA_EXE: /Users/shrey/Desktop/Python/anaconda3/bin/conda\n",
      "SSH_AUTH_SOCK: /private/tmp/com.apple.launchd.gvYsKnlr3V/Listeners\n",
      "_CE_CONDA: \n",
      "CONDA_ROOT: /Users/shrey/Desktop/Python/anaconda3\n",
      "PATH: /Users/shrey/Desktop/Python/anaconda3/bin:/usr/local/bin:/System/Cryptexes/App/usr/bin:/usr/bin:/bin:/usr/sbin:/sbin:/var/run/com.apple.security.cryptexd/codex.system/bootstrap/usr/local/bin:/var/run/com.apple.security.cryptexd/codex.system/bootstrap/usr/bin:/var/run/com.apple.security.cryptexd/codex.system/bootstrap/usr/appleinternal/bin\n",
      "__CFBundleIdentifier: com.apple.Terminal\n",
      "CONDA_PREFIX: /Users/shrey/Desktop/Python/anaconda3\n",
      "PWD: /Users/shrey\n",
      "LANG: en_US.UTF-8\n",
      "EVENT_NOKQUEUE: 1\n",
      "XPC_FLAGS: 0x0\n",
      "XPC_SERVICE_NAME: 0\n",
      "_CE_M: \n",
      "HOME: /Users/shrey\n",
      "SHLVL: 4\n",
      "LOGNAME: shrey\n",
      "CONDA_PYTHON_EXE: /Users/shrey/Desktop/Python/anaconda3/bin/python\n",
      "LC_CTYPE: UTF-8\n",
      "CONDA_DEFAULT_ENV: base\n",
      "_: /Users/shrey/Desktop/Python/anaconda3/bin/jupyter-notebook\n",
      "PYDEVD_USE_FRAME_EVAL: NO\n",
      "JPY_PARENT_PID: 1069\n",
      "CLICOLOR: 1\n",
      "FORCE_COLOR: 1\n",
      "CLICOLOR_FORCE: 1\n",
      "PAGER: cat\n",
      "GIT_PAGER: cat\n",
      "MPLBACKEND: module://matplotlib_inline.backend_inline\n"
     ]
    }
   ],
   "source": [
    "#53. Write a Python program to access environment variables.\n",
    "import os\n",
    "\n",
    "variable_name = \"SHELL\"\n",
    "variable_value = os.getenv(variable_name)\n",
    "print(f\"{variable_name}: {variable_value}\")\n",
    "\n",
    "all_variables = os.environ\n",
    "print(\"All env. variables:\")\n",
    "for key, value in all_variables.items():\n",
    "    print(f\"{key}: {value}\")\n"
   ]
  },
  {
   "cell_type": "code",
   "execution_count": 10,
   "id": "c4c2c34d",
   "metadata": {},
   "outputs": [
    {
     "name": "stdout",
     "output_type": "stream",
     "text": [
      "Current username: shrey\n"
     ]
    }
   ],
   "source": [
    "#54. Write a Python program to get the current username.\n",
    "\n",
    "import getpass\n",
    "\n",
    "username = getpass.getuser()\n",
    "print(f\"Current username: {username}\")"
   ]
  },
  {
   "cell_type": "code",
   "execution_count": 14,
   "id": "58815d32",
   "metadata": {},
   "outputs": [
    {
     "name": "stdout",
     "output_type": "stream",
     "text": [
      "Local IP addresses:\n",
      "127.0.0.1\n",
      "127.0.0.1\n",
      "192.168.4.86\n"
     ]
    }
   ],
   "source": [
    "#x55. Write a Python program to find local IP addresses using Python's stdlib.\n",
    "import socket\n",
    "\n",
    "def get_local_ip():\n",
    "    ip_addresses = []\n",
    "    host_name = socket.gethostname()\n",
    "    ip_addresses.append(socket.gethostbyname(host_name))\n",
    "    ip_addresses.extend(socket.gethostbyname_ex(host_name)[2])\n",
    "    return ip_addresses\n",
    "\n",
    "local_ips = get_local_ip()\n",
    "print(\"Local IP addresses:\")\n",
    "for ip in local_ips:\n",
    "    print(ip)"
   ]
  },
  {
   "cell_type": "code",
   "execution_count": 3,
   "id": "392e0625",
   "metadata": {},
   "outputs": [
    {
     "name": "stdout",
     "output_type": "stream",
     "text": [
      "Unable to retrieve size\n"
     ]
    },
    {
     "name": "stderr",
     "output_type": "stream",
     "text": [
      "stty: stdin isn't a terminal\n"
     ]
    }
   ],
   "source": [
    "#56. Write a Python program to get the height and width of the console window.\n",
    "\n",
    "import os\n",
    "import shutil\n",
    "\n",
    "def get_console_size():\n",
    "    if os.name == 'nt':\n",
    "        size = shutil.get_terminal_size()\n",
    "        return size.columns, size.lines\n",
    "    else:\n",
    "        output = os.popen('stty size', 'r').read().split()\n",
    "        if len(output) == 2:\n",
    "            return int(output[0]), int(output[0])\n",
    "        \n",
    "    return None\n",
    "\n",
    "size = get_console_size()\n",
    "if size:\n",
    "    print(\"Console Width:\", size[0])\n",
    "    print(\"Console Height:\", size[1])\n",
    "    \n",
    "else:\n",
    "    print(\"Unable to retrieve size\")"
   ]
  },
  {
   "cell_type": "code",
   "execution_count": 8,
   "id": "7597cf2a",
   "metadata": {},
   "outputs": [
    {
     "name": "stdout",
     "output_type": "stream",
     "text": [
      "0.0001163482666015625 seconds\n"
     ]
    }
   ],
   "source": [
    "#57. Write a Python program to get the execution time of a Python method.\n",
    "\n",
    "import time\n",
    "\n",
    "start_time = time.time()\n",
    "\n",
    "def cal_fact(n):\n",
    "    if n == 1:\n",
    "        return n\n",
    "    else:\n",
    "        return n * cal_fact(n-1)\n",
    "    \n",
    "end = time.time()\n",
    "\n",
    "print(time.time() - start_time, \"seconds\")"
   ]
  },
  {
   "cell_type": "code",
   "execution_count": 18,
   "id": "58a72b75",
   "metadata": {},
   "outputs": [
    {
     "name": "stdout",
     "output_type": "stream",
     "text": [
      "Enter the value of n: 5\n",
      "The sum of the first 5 positive integers is 15\n"
     ]
    }
   ],
   "source": [
    "#58. Write a Python program to sum the first n positive integers.\n",
    "\n",
    "#def num_sum(a):\n",
    "    \n",
    " #   number_of_digits = input (\"enter the value of number of digits: \")\n",
    "   # if len(str(a)) == number_of_digits and a > 0:\n",
    "  #      for i in a:\n",
    "    #        sum += i\n",
    "     #   print (sum)\n",
    "   # else: \n",
    "    #    print(\"Invalid choice\")\n",
    "\n",
    "# num_sum(3456)\n",
    "\n",
    "def num_sum(n):\n",
    "    if n < 0:\n",
    "        return 0\n",
    "    else:\n",
    "        return (n* (n+1))//2\n",
    "    \n",
    "n = int(input(\"Enter the value of n: \"))\n",
    "result = num_sum(n)\n",
    "print(f\"The sum of the first {n} positive integers is {result}\")\n",
    "    "
   ]
  },
  {
   "cell_type": "code",
   "execution_count": 43,
   "id": "a5af029e",
   "metadata": {},
   "outputs": [
    {
     "name": "stdout",
     "output_type": "stream",
     "text": [
      "enter your height in feet.inches format: 6.0\n",
      "182.88\n"
     ]
    }
   ],
   "source": [
    "#59.Write a Python program to convert height (in feet and inches) to centimeters.\n",
    "\n",
    "height_feet = input(\"enter your height in feet.inches format: \")\n",
    "#1 feet = 12 inches\n",
    "#1 inch = 2.54 cm\n",
    "\n",
    "h = str(height_feet. split('.'))\n",
    "feet = int(h[2])\n",
    "inch = int(h[7])\n",
    "feet_to_inches = feet*12\n",
    "inches_to_cm = feet_to_inches*(2.54)\n",
    "cm = inch*int(2.54)\n",
    "result = inches_to_cm + cm\n",
    "print(result)\n",
    "\n"
   ]
  },
  {
   "cell_type": "code",
   "execution_count": 48,
   "id": "3f8956ad",
   "metadata": {},
   "outputs": [
    {
     "name": "stdout",
     "output_type": "stream",
     "text": [
      "Enter the value of the first side: 3\n",
      "Enter the value of the second side: 4\n",
      "The hypotenuse of the right angled triangle is: 5.0\n"
     ]
    }
   ],
   "source": [
    "#60. Write a Python program to calculate the hypotenuse of a right angled triangle.\n",
    "import math\n",
    "\n",
    "a = int(input(\"Enter the value of the first side: \"))\n",
    "b = int(input(\"Enter the value of the second side: \"))\n",
    "c = (a**2) + (b**2) \n",
    "result = math.sqrt(c)\n",
    "print(f\"The hypotenuse of the right angled triangle is: {result}\")\n"
   ]
  },
  {
   "cell_type": "code",
   "execution_count": 50,
   "id": "b38be2dd",
   "metadata": {},
   "outputs": [
    {
     "name": "stdout",
     "output_type": "stream",
     "text": [
      "Enter the distance in feet: 10000\n",
      "The value in inches is: 120000 in yards is: 3333.3333333333335 in miles: 1.893939393939394\n"
     ]
    }
   ],
   "source": [
    "#61. Write a Python program to convert the distance (in feet) to inches, yards, and miles.\n",
    "#1 foot = 12inches\n",
    "#1 yard = 3 feet\n",
    "#1 mile = 5280 feet\n",
    "\n",
    "feet = int(input(\"Enter the distance in feet: \"))\n",
    "inches = feet*12\n",
    "yard = feet/3\n",
    "mile = feet/5280\n",
    "\n",
    "print(f\"The value in inches is: {inches}\",f\"in yards is: {yard}\",f\"in miles: {mile}\")"
   ]
  },
  {
   "cell_type": "code",
   "execution_count": 3,
   "id": "b4537376",
   "metadata": {},
   "outputs": [
    {
     "name": "stdout",
     "output_type": "stream",
     "text": [
      "Enter the number of days: 1\n",
      "Enter the number of hours: 1\n",
      "Enter the number of minutes: 1\n",
      "Enter the number of seconds: 10\n",
      "The total number of seconds are: 90070\n"
     ]
    }
   ],
   "source": [
    "#62. Write a Python program to convert all units of time into seconds.\n",
    "def time_to_seconds(days, hours, minutes, seconds):\n",
    "    total_seconds = 0\n",
    "    total_seconds += days * 24 * 60 * 60\n",
    "    total_seconds += hours * 60 * 60\n",
    "    total_seconds += minutes * 60\n",
    "    total_seconds += seconds\n",
    "    return total_seconds \n",
    "    \n",
    "days = int(input(\"Enter the number of days: \"))\n",
    "hours = int(input(\"Enter the number of hours: \"))\n",
    "minutes = int(input(\"Enter the number of minutes: \"))\n",
    "seconds = int(input(\"Enter the number of seconds: \"))\n",
    "    \n",
    "result = time_to_seconds(days, hours, minutes, seconds)\n",
    "print(f\"The total number of seconds are: {result}\")\n",
    "\n",
    "    \n",
    "    "
   ]
  },
  {
   "cell_type": "code",
   "execution_count": 5,
   "id": "e3612a4d",
   "metadata": {},
   "outputs": [
    {
     "data": {
      "text/plain": [
       "'/Users/shrey/Desktop/Python/My Python Stuff/tuples'"
      ]
     },
     "execution_count": 5,
     "metadata": {},
     "output_type": "execute_result"
    }
   ],
   "source": [
    "#63. Write a Python program to get an absolute file path.\n",
    "import os\n",
    "os.path.abspath(\"tuples\")"
   ]
  },
  {
   "cell_type": "code",
   "execution_count": 14,
   "id": "35e72b97",
   "metadata": {},
   "outputs": [
    {
     "name": "stdout",
     "output_type": "stream",
     "text": [
      "The creation time for Lists.ipynb file was Fri Jun 16 10:07:26 2023, and the last modified time for the same file is: Fri Jun 16 10:07:26 2023\n"
     ]
    }
   ],
   "source": [
    "#64. Write a Python program that retrieves the date and time of file creation and modification.\n",
    "import os \n",
    "import time\n",
    "\n",
    "modified_time = os.path.getmtime('Lists.ipynb') #modified time\n",
    "creation_time = os.path.getctime('Lists.ipynb') #creation time\n",
    "\n",
    "result_a = time.ctime(modified_time)\n",
    "result_b = time.ctime(creation_time)\n",
    "print (f\"The creation time for Lists.ipynb file was {result_b}, and the last modified time for the same file is: {result_a}\")"
   ]
  },
  {
   "cell_type": "code",
   "execution_count": 50,
   "id": "43928745",
   "metadata": {},
   "outputs": [
    {
     "name": "stdout",
     "output_type": "stream",
     "text": [
      "Enter the number of seconds: 864000\n",
      "10 0 0\n",
      " 10 days, 0 hours, and 0 minutes.\n"
     ]
    }
   ],
   "source": [
    "#65. Write a Python program that converts seconds into days, hours, minutes, and seconds.\n",
    "    \n",
    "sec1 = int(input(\"Enter the number of seconds: \"))\n",
    "#print(sec1)\n",
    "\n",
    "minutes = sec1//60\n",
    "sec1 %= 60\n",
    "\n",
    "hours = minutes//60\n",
    "minutes %= 60\n",
    "\n",
    "days = hours//24\n",
    "hours %= 24\n",
    "\n",
    "print(days, hours, minutes)\n",
    "\n",
    "print(f\" {days} days, {hours} hours, and {minutes} minutes.\")"
   ]
  },
  {
   "cell_type": "code",
   "execution_count": 55,
   "id": "f61988e9",
   "metadata": {},
   "outputs": [
    {
     "name": "stdout",
     "output_type": "stream",
     "text": [
      "Enter your height in meters: 1.55\n",
      "Enter your weight in kg: 79\n",
      "BMI:  32.88\n"
     ]
    }
   ],
   "source": [
    "#66. Write a Python program to calculate the body mass index.\n",
    "def bodymassindex(height, weight):\n",
    "    return round((weight/height**2),2)\n",
    "h = float(input(\"Enter your height in meters: \"))\n",
    "w = float(input(\"Enter your weight in kg: \"))\n",
    "\n",
    "bmi = bodymassindex(h,w)\n",
    "print(\"BMI: \",bmi)\n"
   ]
  },
  {
   "cell_type": "code",
   "execution_count": 58,
   "id": "147fcb65",
   "metadata": {},
   "outputs": [
    {
     "name": "stdout",
     "output_type": "stream",
     "text": [
      "Enter the pressure in kilopascals: 1\n",
      "The value in pounds per sqaure inch is 0.145, in mmhg is 7.5, and in atmospheres is 0.01\n"
     ]
    }
   ],
   "source": [
    "#67. Write a Python program to convert pressure in kilopascals to pounds per square inch, a millimeter of mercury (mmHg) and atmosphere pressure.\n",
    "def pressure(press):\n",
    "    ppsi = round(press*(0.145),3)\n",
    "    mmhg = round(press*(7.5),3)\n",
    "    atm = round(press*(0.009869),3)\n",
    "    return ppsi, mmhg, atm\n",
    "p = float(input(\"Enter the pressure in kilopascals: \"))\n",
    "ppsi, mmhg, atm = pressure(p)\n",
    "print(f\"The value in pounds per sqaure inch is {ppsi}, in mmhg is {mmhg}, and in atmospheres is {atm}\")"
   ]
  },
  {
   "cell_type": "code",
   "execution_count": 11,
   "id": "c3418cf9",
   "metadata": {},
   "outputs": [
    {
     "name": "stdout",
     "output_type": "stream",
     "text": [
      "Enter a 2-digit number or higher: 557\n",
      "The sum of all the digits in 557 is 17\n"
     ]
    }
   ],
   "source": [
    "#68. Write a Python program to calculate sum of digits of a number.\n",
    "\n",
    "def number(num):\n",
    "    num = list(str(num))\n",
    "    result = int(num[0]) + int(num[1]) + int(num[2])\n",
    "    return result\n",
    "n = input(\"Enter a 2-digit number or higher: \")\n",
    "sum1 = number(n)\n",
    "print(f\"The sum of all the digits in {n} is {sum1}\")"
   ]
  },
  {
   "cell_type": "code",
   "execution_count": 31,
   "id": "5ae7c336",
   "metadata": {},
   "outputs": [
    {
     "ename": "TypeError",
     "evalue": "'NoneType' object is not callable",
     "output_type": "error",
     "traceback": [
      "\u001b[0;31m---------------------------------------------------------------------------\u001b[0m",
      "\u001b[0;31mTypeError\u001b[0m                                 Traceback (most recent call last)",
      "Cell \u001b[0;32mIn[31], line 3\u001b[0m\n\u001b[1;32m      1\u001b[0m \u001b[38;5;66;03m#69. Write a Python program to sort three integers without using conditional statements and loops.\u001b[39;00m\n\u001b[1;32m      2\u001b[0m a \u001b[38;5;241m=\u001b[39m (\u001b[38;5;241m20\u001b[39m,\u001b[38;5;241m5\u001b[39m,\u001b[38;5;241m90\u001b[39m,\u001b[38;5;241m34\u001b[39m,\u001b[38;5;241m2\u001b[39m,\u001b[38;5;241m1\u001b[39m)\n\u001b[0;32m----> 3\u001b[0m res \u001b[38;5;241m=\u001b[39m \u001b[38;5;28;43msorted\u001b[39;49m\u001b[43m(\u001b[49m\u001b[43ma\u001b[49m\u001b[43m)\u001b[49m\n\u001b[1;32m      4\u001b[0m \u001b[38;5;28mprint\u001b[39m(res)\n",
      "\u001b[0;31mTypeError\u001b[0m: 'NoneType' object is not callable"
     ]
    }
   ],
   "source": [
    "#69. Write a Python program to sort three integers without using conditional statements and loops.\n",
    "a = (20,5,90,34,2,1)\n",
    "res = sorted(a)\n",
    "print(res)\n"
   ]
  },
  {
   "cell_type": "code",
   "execution_count": 39,
   "id": "7447d087",
   "metadata": {},
   "outputs": [
    {
     "name": "stdout",
     "output_type": "stream",
     "text": [
      "\n"
     ]
    }
   ],
   "source": [
    "#70. Write a Python program to sort files by date.\n",
    "\n",
    "import glob\n",
    "import os\n",
    "\n",
    "files = glob.glob(\"*.txt\")\n",
    "files.sort(key=os.path.getmtime)\n",
    "print(\"\\n\".join(files))"
   ]
  },
  {
   "cell_type": "code",
   "execution_count": 42,
   "id": "97cf2fd4",
   "metadata": {},
   "outputs": [
    {
     "ename": "TypeError",
     "evalue": "'NoneType' object is not callable",
     "output_type": "error",
     "traceback": [
      "\u001b[0;31m---------------------------------------------------------------------------\u001b[0m",
      "\u001b[0;31mTypeError\u001b[0m                                 Traceback (most recent call last)",
      "Cell \u001b[0;32mIn[42], line 18\u001b[0m\n\u001b[1;32m     15\u001b[0m     \u001b[38;5;28;01mreturn\u001b[39;00m sorted_entries\n\u001b[1;32m     17\u001b[0m directory_path \u001b[38;5;241m=\u001b[39m \u001b[38;5;124m\"\u001b[39m\u001b[38;5;124m.\u001b[39m\u001b[38;5;124m\"\u001b[39m\n\u001b[0;32m---> 18\u001b[0m sorted_listing \u001b[38;5;241m=\u001b[39m \u001b[43mget_directory_listing_sorted_by_creation_date\u001b[49m\u001b[43m(\u001b[49m\u001b[43mdirectory_path\u001b[49m\u001b[43m)\u001b[49m\n\u001b[1;32m     19\u001b[0m \u001b[38;5;28;01mfor\u001b[39;00m creation_time, file_name \u001b[38;5;129;01min\u001b[39;00m sorted_listing:\n\u001b[1;32m     20\u001b[0m     formatted_time \u001b[38;5;241m=\u001b[39m time\u001b[38;5;241m.\u001b[39mctime(creation_time)\n",
      "Cell \u001b[0;32mIn[42], line 14\u001b[0m, in \u001b[0;36mget_directory_listing_sorted_by_creation_date\u001b[0;34m(directory)\u001b[0m\n\u001b[1;32m     12\u001b[0m         entry \u001b[38;5;241m=\u001b[39m (creation_time, file_name)\n\u001b[1;32m     13\u001b[0m         entries\u001b[38;5;241m.\u001b[39mappend(entry)\n\u001b[0;32m---> 14\u001b[0m sorted_entries \u001b[38;5;241m=\u001b[39m \u001b[38;5;28;43msorted\u001b[39;49m\u001b[43m(\u001b[49m\u001b[43mentries\u001b[49m\u001b[43m,\u001b[49m\u001b[43m \u001b[49m\u001b[43mkey\u001b[49m\u001b[38;5;241;43m=\u001b[39;49m\u001b[38;5;28;43;01mlambda\u001b[39;49;00m\u001b[43m \u001b[49m\u001b[43mx\u001b[49m\u001b[43m:\u001b[49m\u001b[43m \u001b[49m\u001b[43mx\u001b[49m\u001b[43m[\u001b[49m\u001b[38;5;241;43m0\u001b[39;49m\u001b[43m]\u001b[49m\u001b[43m)\u001b[49m\n\u001b[1;32m     15\u001b[0m \u001b[38;5;28;01mreturn\u001b[39;00m sorted_entries\n",
      "\u001b[0;31mTypeError\u001b[0m: 'NoneType' object is not callable"
     ]
    }
   ],
   "source": [
    "#71. Write a Python program to get a directory listing, sorted by creation date.\n",
    "\n",
    "import os\n",
    "import time\n",
    "\n",
    "def get_directory_listing_sorted_by_creation_date(directory):\n",
    "    entries = []\n",
    "    for file_name in os.listdir(directory):\n",
    "        path = os.path.join(directory, file_name)\n",
    "        if os.path.isfile(path):\n",
    "            creation_time = os.path.getctime(path)\n",
    "            entry = (creation_time, file_name)\n",
    "            entries.append(entry)\n",
    "    sorted_entries = sorted(entries, key=lambda x: x[0])\n",
    "    return sorted_entries\n",
    "\n",
    "directory_path = \".\"\n",
    "sorted_listing = get_directory_listing_sorted_by_creation_date(directory_path)\n",
    "for creation_time, file_name in sorted_listing:\n",
    "    formatted_time = time.ctime(creation_time)\n",
    "    print(f\"{formatted_time}: {file_name}\")"
   ]
  },
  {
   "cell_type": "code",
   "execution_count": 43,
   "id": "478589b1",
   "metadata": {},
   "outputs": [
    {
     "name": "stdout",
     "output_type": "stream",
     "text": [
      "Help on module math:\n",
      "\n",
      "NAME\n",
      "    math\n",
      "\n",
      "MODULE REFERENCE\n",
      "    https://docs.python.org/3.10/library/math.html\n",
      "    \n",
      "    The following documentation is automatically generated from the Python\n",
      "    source files.  It may be incomplete, incorrect or include features that\n",
      "    are considered implementation detail and may vary between Python\n",
      "    implementations.  When in doubt, consult the module reference at the\n",
      "    location listed above.\n",
      "\n",
      "DESCRIPTION\n",
      "    This module provides access to the mathematical functions\n",
      "    defined by the C standard.\n",
      "\n",
      "FUNCTIONS\n",
      "    acos(x, /)\n",
      "        Return the arc cosine (measured in radians) of x.\n",
      "        \n",
      "        The result is between 0 and pi.\n",
      "    \n",
      "    acosh(x, /)\n",
      "        Return the inverse hyperbolic cosine of x.\n",
      "    \n",
      "    asin(x, /)\n",
      "        Return the arc sine (measured in radians) of x.\n",
      "        \n",
      "        The result is between -pi/2 and pi/2.\n",
      "    \n",
      "    asinh(x, /)\n",
      "        Return the inverse hyperbolic sine of x.\n",
      "    \n",
      "    atan(x, /)\n",
      "        Return the arc tangent (measured in radians) of x.\n",
      "        \n",
      "        The result is between -pi/2 and pi/2.\n",
      "    \n",
      "    atan2(y, x, /)\n",
      "        Return the arc tangent (measured in radians) of y/x.\n",
      "        \n",
      "        Unlike atan(y/x), the signs of both x and y are considered.\n",
      "    \n",
      "    atanh(x, /)\n",
      "        Return the inverse hyperbolic tangent of x.\n",
      "    \n",
      "    ceil(x, /)\n",
      "        Return the ceiling of x as an Integral.\n",
      "        \n",
      "        This is the smallest integer >= x.\n",
      "    \n",
      "    comb(n, k, /)\n",
      "        Number of ways to choose k items from n items without repetition and without order.\n",
      "        \n",
      "        Evaluates to n! / (k! * (n - k)!) when k <= n and evaluates\n",
      "        to zero when k > n.\n",
      "        \n",
      "        Also called the binomial coefficient because it is equivalent\n",
      "        to the coefficient of k-th term in polynomial expansion of the\n",
      "        expression (1 + x)**n.\n",
      "        \n",
      "        Raises TypeError if either of the arguments are not integers.\n",
      "        Raises ValueError if either of the arguments are negative.\n",
      "    \n",
      "    copysign(x, y, /)\n",
      "        Return a float with the magnitude (absolute value) of x but the sign of y.\n",
      "        \n",
      "        On platforms that support signed zeros, copysign(1.0, -0.0)\n",
      "        returns -1.0.\n",
      "    \n",
      "    cos(x, /)\n",
      "        Return the cosine of x (measured in radians).\n",
      "    \n",
      "    cosh(x, /)\n",
      "        Return the hyperbolic cosine of x.\n",
      "    \n",
      "    degrees(x, /)\n",
      "        Convert angle x from radians to degrees.\n",
      "    \n",
      "    dist(p, q, /)\n",
      "        Return the Euclidean distance between two points p and q.\n",
      "        \n",
      "        The points should be specified as sequences (or iterables) of\n",
      "        coordinates.  Both inputs must have the same dimension.\n",
      "        \n",
      "        Roughly equivalent to:\n",
      "            sqrt(sum((px - qx) ** 2.0 for px, qx in zip(p, q)))\n",
      "    \n",
      "    erf(x, /)\n",
      "        Error function at x.\n",
      "    \n",
      "    erfc(x, /)\n",
      "        Complementary error function at x.\n",
      "    \n",
      "    exp(x, /)\n",
      "        Return e raised to the power of x.\n",
      "    \n",
      "    expm1(x, /)\n",
      "        Return exp(x)-1.\n",
      "        \n",
      "        This function avoids the loss of precision involved in the direct evaluation of exp(x)-1 for small x.\n",
      "    \n",
      "    fabs(x, /)\n",
      "        Return the absolute value of the float x.\n",
      "    \n",
      "    factorial(x, /)\n",
      "        Find x!.\n",
      "        \n",
      "        Raise a ValueError if x is negative or non-integral.\n",
      "    \n",
      "    floor(x, /)\n",
      "        Return the floor of x as an Integral.\n",
      "        \n",
      "        This is the largest integer <= x.\n",
      "    \n",
      "    fmod(x, y, /)\n",
      "        Return fmod(x, y), according to platform C.\n",
      "        \n",
      "        x % y may differ.\n",
      "    \n",
      "    frexp(x, /)\n",
      "        Return the mantissa and exponent of x, as pair (m, e).\n",
      "        \n",
      "        m is a float and e is an int, such that x = m * 2.**e.\n",
      "        If x is 0, m and e are both 0.  Else 0.5 <= abs(m) < 1.0.\n",
      "    \n",
      "    fsum(seq, /)\n",
      "        Return an accurate floating point sum of values in the iterable seq.\n",
      "        \n",
      "        Assumes IEEE-754 floating point arithmetic.\n",
      "    \n",
      "    gamma(x, /)\n",
      "        Gamma function at x.\n",
      "    \n",
      "    gcd(*integers)\n",
      "        Greatest Common Divisor.\n",
      "    \n",
      "    hypot(...)\n",
      "        hypot(*coordinates) -> value\n",
      "        \n",
      "        Multidimensional Euclidean distance from the origin to a point.\n",
      "        \n",
      "        Roughly equivalent to:\n",
      "            sqrt(sum(x**2 for x in coordinates))\n",
      "        \n",
      "        For a two dimensional point (x, y), gives the hypotenuse\n",
      "        using the Pythagorean theorem:  sqrt(x*x + y*y).\n",
      "        \n",
      "        For example, the hypotenuse of a 3/4/5 right triangle is:\n",
      "        \n",
      "            >>> hypot(3.0, 4.0)\n",
      "            5.0\n",
      "    \n",
      "    isclose(a, b, *, rel_tol=1e-09, abs_tol=0.0)\n",
      "        Determine whether two floating point numbers are close in value.\n",
      "        \n",
      "          rel_tol\n",
      "            maximum difference for being considered \"close\", relative to the\n",
      "            magnitude of the input values\n",
      "          abs_tol\n",
      "            maximum difference for being considered \"close\", regardless of the\n",
      "            magnitude of the input values\n",
      "        \n",
      "        Return True if a is close in value to b, and False otherwise.\n",
      "        \n",
      "        For the values to be considered close, the difference between them\n",
      "        must be smaller than at least one of the tolerances.\n",
      "        \n",
      "        -inf, inf and NaN behave similarly to the IEEE 754 Standard.  That\n",
      "        is, NaN is not close to anything, even itself.  inf and -inf are\n",
      "        only close to themselves.\n",
      "    \n",
      "    isfinite(x, /)\n",
      "        Return True if x is neither an infinity nor a NaN, and False otherwise.\n",
      "    \n",
      "    isinf(x, /)\n",
      "        Return True if x is a positive or negative infinity, and False otherwise.\n",
      "    \n",
      "    isnan(x, /)\n",
      "        Return True if x is a NaN (not a number), and False otherwise.\n",
      "    \n",
      "    isqrt(n, /)\n",
      "        Return the integer part of the square root of the input.\n",
      "    \n",
      "    lcm(*integers)\n",
      "        Least Common Multiple.\n",
      "    \n",
      "    ldexp(x, i, /)\n",
      "        Return x * (2**i).\n",
      "        \n",
      "        This is essentially the inverse of frexp().\n",
      "    \n",
      "    lgamma(x, /)\n",
      "        Natural logarithm of absolute value of Gamma function at x.\n",
      "    \n",
      "    log(...)\n",
      "        log(x, [base=math.e])\n",
      "        Return the logarithm of x to the given base.\n",
      "        \n",
      "        If the base not specified, returns the natural logarithm (base e) of x.\n",
      "    \n",
      "    log10(x, /)\n",
      "        Return the base 10 logarithm of x.\n",
      "    \n",
      "    log1p(x, /)\n",
      "        Return the natural logarithm of 1+x (base e).\n",
      "        \n",
      "        The result is computed in a way which is accurate for x near zero.\n",
      "    \n",
      "    log2(x, /)\n",
      "        Return the base 2 logarithm of x.\n",
      "    \n",
      "    modf(x, /)\n",
      "        Return the fractional and integer parts of x.\n",
      "        \n",
      "        Both results carry the sign of x and are floats.\n",
      "    \n",
      "    nextafter(x, y, /)\n",
      "        Return the next floating-point value after x towards y.\n",
      "    \n",
      "    perm(n, k=None, /)\n",
      "        Number of ways to choose k items from n items without repetition and with order.\n",
      "        \n",
      "        Evaluates to n! / (n - k)! when k <= n and evaluates\n",
      "        to zero when k > n.\n",
      "        \n",
      "        If k is not specified or is None, then k defaults to n\n",
      "        and the function returns n!.\n",
      "        \n",
      "        Raises TypeError if either of the arguments are not integers.\n",
      "        Raises ValueError if either of the arguments are negative.\n",
      "    \n",
      "    pow(x, y, /)\n",
      "        Return x**y (x to the power of y).\n",
      "    \n",
      "    prod(iterable, /, *, start=1)\n",
      "        Calculate the product of all the elements in the input iterable.\n",
      "        \n",
      "        The default start value for the product is 1.\n",
      "        \n",
      "        When the iterable is empty, return the start value.  This function is\n",
      "        intended specifically for use with numeric values and may reject\n",
      "        non-numeric types.\n",
      "    \n",
      "    radians(x, /)\n",
      "        Convert angle x from degrees to radians.\n",
      "    \n",
      "    remainder(x, y, /)\n",
      "        Difference between x and the closest integer multiple of y.\n",
      "        \n",
      "        Return x - n*y where n*y is the closest integer multiple of y.\n",
      "        In the case where x is exactly halfway between two multiples of\n",
      "        y, the nearest even value of n is used. The result is always exact.\n",
      "    \n",
      "    sin(x, /)\n",
      "        Return the sine of x (measured in radians).\n",
      "    \n",
      "    sinh(x, /)\n",
      "        Return the hyperbolic sine of x.\n",
      "    \n",
      "    sqrt(x, /)\n",
      "        Return the square root of x.\n",
      "    \n",
      "    tan(x, /)\n",
      "        Return the tangent of x (measured in radians).\n",
      "    \n",
      "    tanh(x, /)\n",
      "        Return the hyperbolic tangent of x.\n",
      "    \n",
      "    trunc(x, /)\n",
      "        Truncates the Real x to the nearest Integral toward 0.\n",
      "        \n",
      "        Uses the __trunc__ magic method.\n",
      "    \n",
      "    ulp(x, /)\n",
      "        Return the value of the least significant bit of the float x.\n",
      "\n",
      "DATA\n",
      "    e = 2.718281828459045\n",
      "    inf = inf\n",
      "    nan = nan\n",
      "    pi = 3.141592653589793\n",
      "    tau = 6.283185307179586\n",
      "\n",
      "FILE\n",
      "    /Users/shrey/Desktop/Python/anaconda3/lib/python3.10/lib-dynload/math.cpython-310-darwin.so\n",
      "\n",
      "\n"
     ]
    }
   ],
   "source": [
    "#72. Write a Python program to get the details of the math module.\n",
    "import math\n",
    "\n",
    "help(math)"
   ]
  },
  {
   "cell_type": "code",
   "execution_count": 57,
   "id": "6416c499",
   "metadata": {},
   "outputs": [
    {
     "name": "stdout",
     "output_type": "stream",
     "text": [
      "Enter the coordinates for x1: -1\n",
      "Enter the coordinates for x2: 3\n",
      "Enter the coordinates for y1: 2\n",
      "Enter the coordinates for y2: -6\n",
      "(1.0, -2.0)\n"
     ]
    }
   ],
   "source": [
    "#73. Write a Python program to calculate the midpoints of a line.\n",
    "\n",
    "x1 = float(input(\"Enter the coordinates for x1: \"))\n",
    "x2 = float(input(\"Enter the coordinates for x2: \"))\n",
    "\n",
    "y1 = float(input(\"Enter the coordinates for y1: \"))\n",
    "y2 = float(input(\"Enter the coordinates for y2: \"))\n",
    "\n",
    "mp = ((x1+x2)/2,(y1+y2)/2)\n",
    "print(mp)"
   ]
  },
  {
   "cell_type": "code",
   "execution_count": 77,
   "id": "c6e814e0",
   "metadata": {},
   "outputs": [
    {
     "name": "stdout",
     "output_type": "stream",
     "text": [
      "The hash value for int. is: 8\n",
      "The hash value for int. is: 2368714997453370367\n",
      "The hash value for int. is: 2006083418015924518\n"
     ]
    }
   ],
   "source": [
    "#74. Write a Python program to hash a word.\n",
    "int_value = 8\n",
    "str_value = 'Shrey'\n",
    "flt_value = 294.87\n",
    "\n",
    "#hash_int = str(hash(int_value))\n",
    "#hash_str = hash(str_value)\n",
    "#hash_flt = hash(flt_value)\n",
    "\n",
    "print(\"The hash value for int. is: \"  + str(hash(int_value)))\n",
    "print(\"The hash value for int. is: \" + str(hash(str_value)))\n",
    "print(\"The hash value for int. is: \" + str(hash(flt_value)))"
   ]
  },
  {
   "cell_type": "code",
   "execution_count": 1,
   "id": "87e51b7f",
   "metadata": {},
   "outputs": [
    {
     "name": "stdout",
     "output_type": "stream",
     "text": [
      "\n",
      "# Copyright (c) 2023 Shrey Raut\n",
      "\n",
      "# Your Python code starts here...\n",
      "print(\"Hello, World!\")\n",
      "\n"
     ]
    }
   ],
   "source": [
    "#75. Write a Python program to get the copyright information and write Copyright information in Python code.\n",
    "\n",
    "import datetime\n",
    "\n",
    "def get_copyright(year):\n",
    "    return f\"Copyright (c) {year} Shrey Raut\"\n",
    "\n",
    "current_year = datetime.datetime.now().year\n",
    "\n",
    "copyright_info = get_copyright(current_year)\n",
    "\n",
    "python_code = f\"\"\"\n",
    "# {copyright_info}\n",
    "\n",
    "# Your Python code starts here...\n",
    "print(\"Hello, World!\")\n",
    "\"\"\"\n",
    "\n",
    "print(python_code)"
   ]
  },
  {
   "cell_type": "code",
   "execution_count": 2,
   "id": "16072303",
   "metadata": {},
   "outputs": [
    {
     "name": "stdout",
     "output_type": "stream",
     "text": [
      "Python copyright information:\n",
      "\n",
      "Copyright (c) 2001-2022 Python Software Foundation.\n",
      "All Rights Reserved.\n",
      "\n",
      "Copyright (c) 2000 BeOpen.com.\n",
      "All Rights Reserved.\n",
      "\n",
      "Copyright (c) 1995-2001 Corporation for National Research Initiatives.\n",
      "All Rights Reserved.\n",
      "\n",
      "Copyright (c) 1991-1995 Stichting Mathematisch Centrum, Amsterdam.\n",
      "All Rights Reserved.\n"
     ]
    }
   ],
   "source": [
    "#75 \n",
    "print(\"Python copyright information:\\n\")\n",
    "print(copyright)"
   ]
  },
  {
   "cell_type": "code",
   "execution_count": 5,
   "id": "77f0fd19",
   "metadata": {},
   "outputs": [
    {
     "name": "stdout",
     "output_type": "stream",
     "text": [
      "Total arguments passed: 3\n",
      "\n",
      "Name of the script is: /Users/shrey/Desktop/Python/anaconda3/lib/python3.10/site-packages/ipykernel_launcher.py\n",
      "\n",
      "Arguments passed: -f /Users/shrey/Library/Jupyter/runtime/kernel-31fb14e0-d3d7-4d59-8aef-4ea58292c891.json "
     ]
    }
   ],
   "source": [
    "#76 Write a Python program to get the command-line arguments (name of the script, the number of arguments, arguments) passed to a script.\n",
    "import sys\n",
    "\n",
    "n = len(sys.argv)\n",
    "print(\"Total arguments passed:\", n)\n",
    "\n",
    "print(\"\\nName of the script is:\", sys.argv[0])\n",
    "\n",
    "print(\"\\nArguments passed:\", end = \" \")\n",
    "for i in range(1,n):\n",
    "    print(sys.argv[i], end = \" \")\n"
   ]
  },
  {
   "cell_type": "code",
   "execution_count": 6,
   "id": "1b493268",
   "metadata": {},
   "outputs": [
    {
     "name": "stdout",
     "output_type": "stream",
     "text": [
      "This is the name/path of the script:\n",
      "Number of arguments: 3\n",
      "Argument List: ['/Users/shrey/Desktop/Python/anaconda3/lib/python3.10/site-packages/ipykernel_launcher.py', '-f', '/Users/shrey/Library/Jupyter/runtime/kernel-31fb14e0-d3d7-4d59-8aef-4ea58292c891.json']\n"
     ]
    }
   ],
   "source": [
    "#76\n",
    "\n",
    "import sys\n",
    "print(\"This is the name/path of the script:\"),sys.argv[0]\n",
    "print(\"Number of arguments:\",len(sys.argv))\n",
    "print(\"Argument List:\",str(sys.argv))"
   ]
  },
  {
   "cell_type": "code",
   "execution_count": 8,
   "id": "d8cdd282",
   "metadata": {},
   "outputs": [
    {
     "name": "stdout",
     "output_type": "stream",
     "text": [
      "Little-endian platform\n"
     ]
    }
   ],
   "source": [
    "#77 Write a Python program to test whether the system is a big-endian platform or a little-endian platform.\n",
    "\n",
    "import sys\n",
    "\n",
    "def check_endian():\n",
    "    if sys.byteorder == 'little':\n",
    "        return 'Little-endian platform'\n",
    "    else:\n",
    "        return 'Big-endian platform'\n",
    "    \n",
    "endianness = check_endian()\n",
    "print(endianness)"
   ]
  },
  {
   "cell_type": "code",
   "execution_count": 9,
   "id": "19598522",
   "metadata": {},
   "outputs": [
    {
     "name": "stdout",
     "output_type": "stream",
     "text": [
      "\n",
      "Please wait a moment while I gather a list of all available modules...\n",
      "\n"
     ]
    },
    {
     "name": "stderr",
     "output_type": "stream",
     "text": [
      "WARNING: AstropyDeprecationWarning: The private astropy._erfa module has been made into its own package, pyerfa, which is a dependency of astropy and can be imported directly using \"import erfa\" [astropy._erfa]\n",
      "/Users/shrey/Desktop/Python/anaconda3/lib/python3.10/site-packages/tqdm/auto.py:22: TqdmWarning: IProgress not found. Please update jupyter and ipywidgets. See https://ipywidgets.readthedocs.io/en/stable/user_install.html\n",
      "  from .autonotebook import tqdm as notebook_tqdm\n",
      "/Users/shrey/Desktop/Python/anaconda3/lib/python3.10/site-packages/caffe2/__init__.py:5: UserWarning: Caffe2 support is not fully enabled in this PyTorch build. Please enable Caffe2 by building PyTorch from source with `BUILD_CAFFE2=1` flag.\n",
      "  warnings.warn(\"Caffe2 support is not fully enabled in this PyTorch build. \"\n",
      "/Users/shrey/Desktop/Python/anaconda3/lib/python3.10/site-packages/caffe2/proto/__init__.py:17: UserWarning: Caffe2 support is not enabled in this PyTorch build. Please enable Caffe2 by building PyTorch from source with `BUILD_CAFFE2=1` flag.\n",
      "  warnings.warn('Caffe2 support is not enabled in this PyTorch build. '\n",
      "/Users/shrey/Desktop/Python/anaconda3/lib/python3.10/site-packages/caffe2/proto/__init__.py:17: UserWarning: Caffe2 support is not enabled in this PyTorch build. Please enable Caffe2 by building PyTorch from source with `BUILD_CAFFE2=1` flag.\n",
      "  warnings.warn('Caffe2 support is not enabled in this PyTorch build. '\n",
      "/Users/shrey/Desktop/Python/anaconda3/lib/python3.10/site-packages/caffe2/python/__init__.py:9: UserWarning: Caffe2 support is not enabled in this PyTorch build. Please enable Caffe2 by building PyTorch from source with `BUILD_CAFFE2=1` flag.\n",
      "  warnings.warn('Caffe2 support is not enabled in this PyTorch build. '\n",
      "/Users/shrey/Desktop/Python/anaconda3/lib/python3.10/site-packages/llvmlite/llvmpy/__init__.py:3: UserWarning: The module `llvmlite.llvmpy` is deprecated and will be removed in the future.\n",
      "  warnings.warn(\n",
      "/Users/shrey/Desktop/Python/anaconda3/lib/python3.10/site-packages/nltk/twitter/__init__.py:20: UserWarning: The twython library has not been installed. Some functionality from the twitter package will not be available.\n",
      "  warnings.warn(\n",
      "/Users/shrey/Desktop/Python/anaconda3/lib/python3.10/pkgutil.py:92: UserWarning: The numpy.array_api submodule is still experimental. See NEP 47.\n",
      "  __import__(info.name)\n",
      "/Users/shrey/Desktop/Python/anaconda3/lib/python3.10/site-packages/_distutils_hack/__init__.py:33: UserWarning: Setuptools is replacing distutils.\n",
      "  warnings.warn(\"Setuptools is replacing distutils.\")\n",
      "/Users/shrey/Desktop/Python/anaconda3/lib/python3.10/pkgutil.py:92: UserWarning:\n",
      "\n",
      "viewer requires Qt\n",
      "\n",
      "No QCoreApplication instance found. Application patches not applied. You have to call load_stylesheet function after instantiation of QApplication to take effect. \n",
      "NOTE: Redirects are currently not supported in Windows or MacOs.\n"
     ]
    },
    {
     "name": "stdout",
     "output_type": "stream",
     "text": [
      "AppKit              bz2                 jupyter_client      repo_cli\n",
      "Cocoa               cProfile            jupyter_core        reprlib\n",
      "CoreFoundation      caffe2              jupyter_server      requests\n",
      "CoreServices        calendar            jupyterlab          requests_file\n",
      "FSEvents            certifi             jupyterlab_plotly   requests_toolbelt\n",
      "Foundation          cffi                jupyterlab_pygments resource\n",
      "IPython             cgi                 jupyterlab_server   rlcompleter\n",
      "OpenSSL             cgitb               jwt                 rope\n",
      "PIL                 chardet             keyring             rtree\n",
      "PyQt5               charset_normalizer  keyword             ruamel_yaml\n",
      "TBB                 chunk               kiwisolver          runpy\n",
      "__future__          click               lazy_object_proxy   sched\n",
      "_abc                cloudpickle         lib2to3             scipy\n",
      "_aix_support        clyent              libarchive          scrapy\n",
      "_argon2_cffi_bindings cmath               libfuturize         seaborn\n",
      "_ast                cmd                 libpasteurize       secrets\n",
      "_asyncio            code                lief                select\n",
      "_bisect             codecs              linecache           selectors\n",
      "_black_version      codeop              llvmlite            send2trash\n",
      "_blake2             collections         locale              service_identity\n",
      "_bootsubprocess     colorama            locket              setuptools\n",
      "_bz2                colorcet            logging             shelve\n",
      "_cffi_backend       colorsys            lxml                shlex\n",
      "_codecs             comm                lz4                 shutil\n",
      "_codecs_cn          compileall          lzma                signal\n",
      "_codecs_hk          concurrent          mactypes            sipbuild\n",
      "_codecs_iso2022     conda               mailbox             site\n",
      "_codecs_jp          conda_build         mailcap             six\n",
      "_codecs_kr          conda_content_trust markdown            skimage\n",
      "_codecs_tw          conda_env           markupsafe          sklearn\n",
      "_collections        conda_pack          marshal             slugify\n",
      "_collections_abc    conda_package_handling math                smart_open\n",
      "_compat_pickle      conda_package_streaming matplotlib          smmap\n",
      "_compression        conda_token         matplotlib_inline   smtpd\n",
      "_contextvars        conda_verify        mccabe              smtplib\n",
      "_crypt              configparser        mimetypes           snappy\n",
      "_csv                constantly          mistune             sndhdr\n",
      "_ctypes             contextlib          mmap                sniffio\n",
      "_ctypes_test        contextvars         mock                snowballstemmer\n",
      "_curses             contourpy           modulefinder        socket\n",
      "_curses_panel       cookiecutter        mpmath              socketserver\n",
      "_datetime           copy                msgpack             socks\n",
      "_dbm                copyreg             multidict           sockshandler\n",
      "_decimal            crypt               multipledispatch    sortedcontainers\n",
      "_distutils_hack     cryptography        multiprocessing     soupsieve\n",
      "_elementtree        cssselect           munkres             sphinx\n",
      "_functools          csv                 mypy_extensions     spyder\n",
      "_hashlib            ctypes              nacl                spyder_kernels\n",
      "_heapq              curl                navigator_updater   sqlalchemy\n",
      "_imp                curses              nbclassic           sqlite3\n",
      "_io                 cycler              nbclient            sre_compile\n",
      "_json               cytoolz             nbconvert           sre_constants\n",
      "_locale             dask                nbformat            sre_parse\n",
      "_lsprof             dataclasses         nest_asyncio        ssl\n",
      "_lzma               datashader          netrc               stack_data\n",
      "_markupbase         datashape           networkx            stat\n",
      "_md5                datetime            nis                 statistics\n",
      "_multibytecodec     dateutil            nltk                statsmodels\n",
      "_multiprocessing    dbm                 nntplib             string\n",
      "_opcode             debugpy             notebook            stringprep\n",
      "_operator           decimal             notebook_shim       struct\n",
      "_osx_support        decorator           ntpath              subprocess\n",
      "_pickle             defusedxml          nturl2path          sunau\n",
      "_plotly_future_     deprecated          numba               sympy\n",
      "_plotly_utils       diff_match_patch    numbergen           symtable\n",
      "_posixshmem         difflib             numbers             sys\n",
      "_posixsubprocess    dill                numexpr             sysconfig\n",
      "_py_abc             dis                 numpy               syslog\n",
      "_pydecimal          distributed         numpydoc            tables\n",
      "_pyio               distutils           objc                tabnanny\n",
      "_pyrsistent_version docstring_to_markdown opcode              tabulate\n",
      "_pytest             doctest             openpyxl            tarfile\n",
      "_queue              docutils            operator            tbb\n",
      "_random             email               optparse            tblib\n",
      "_ruamel_yaml        encodings           os                  telnetlib\n",
      "_scproxy            ensurepip           osax                tempfile\n",
      "_sha1               entrypoints         packaging           tenacity\n",
      "_sha256             enum                pandas              terminado\n",
      "_sha3               erfa                pandocfilters       termios\n",
      "_sha512             errno               panel               test\n",
      "_signal             et_xmlfile          param               test_pycosat\n",
      "_sitebuiltins       executing           parsel              text_unidecode\n",
      "_socket             fastjsonschema      parso               textdistance\n",
      "_sqlite3            faulthandler        partd               textwrap\n",
      "_sre                fcntl               past                this\n",
      "_ssl                filecmp             pathlib             threading\n",
      "_stat               fileinput           pathspec            threadpoolctl\n",
      "_statistics         filelock            patsy               three_merge\n",
      "_string             flake8              pdb                 tifffile\n",
      "_strptime           flask               pep8                time\n",
      "_struct             flit_core           pexpect             timeit\n",
      "_symtable           fnmatch             pickle              tinycss2\n",
      "_sysconfigdata__darwin_darwin fontTools           pickleshare         tkinter\n",
      "_sysconfigdata_arm64_apple_darwin20_0_0 fractions           pickletools         tldextract\n",
      "_testbuffer         frozenlist          pip                 tlz\n",
      "_testcapi           fsspec              pipes               token\n",
      "_testimportmultiple ftplib              pkg_resources       tokenize\n",
      "_testinternalcapi   functools           pkginfo             tokenizers\n",
      "_testmultiphase     future              pkgutil             toml\n",
      "_thread             gc                  platform            tomli\n",
      "_threading_local    genericpath         platformdirs        tomlkit\n",
      "_tkinter            gensim              plistlib            toolz\n",
      "_tracemalloc        getopt              plotly              torch\n",
      "_uuid               getpass             pluggy              torchgen\n",
      "_warnings           gettext             ply                 tornado\n",
      "_watchdog_fsevents  git                 pooch               tqdm\n",
      "_weakref            gitdb               poplib              trace\n",
      "_weakrefset         github              posix               traceback\n",
      "_xxsubinterpreters  glob                posixpath           tracemalloc\n",
      "_xxtestfuzz         glob2               poyo                traitlets\n",
      "_yaml               gmpy2               pprint              transformers\n",
      "_zoneinfo           graphlib            print(\"hello world\") tty\n",
      "abc                 greenlet            profile             turtle\n",
      "aem                 grp                 prometheus_client   turtledemo\n",
      "aifc                gzip                prompt_toolkit      twisted\n",
      "aiohttp             h5py                protego             types\n",
      "aiosignal           hamcrest            pstats              typing\n",
      "alabaster           hashlib             psutil              typing_extensions\n",
      "anaconda_navigator  heapdict            pty                 ujson\n",
      "anaconda_project    heapq               ptyprocess          unicodedata\n",
      "antigravity         hmac                pure_eval           unidecode\n",
      "anyio               holoviews           pvectorc            unittest\n",
      "appdirs             html                pwd                 urllib\n",
      "applaunchservices   http                py                  urllib3\n",
      "appnope             huggingface_hub     py_compile          uu\n",
      "appscript           hvplot              pyasn1              uuid\n",
      "argon2              hyperlink           pyasn1_modules      venv\n",
      "argparse            idlelib             pyclbr              w3lib\n",
      "array               idna                pycodestyle         warnings\n",
      "arrow               imagecodecs         pycosat             watchdog\n",
      "ast                 imageio             pycparser           wave\n",
      "astroid             imagesize           pyct                wcwidth\n",
      "astropy             imaplib             pycurl              weakref\n",
      "asttokens           imblearn            pydispatch          webbrowser\n",
      "async_timeout       imghdr              pydoc               webencodings\n",
      "asynchat            imp                 pydoc_data          websocket\n",
      "asyncio             importlib           pydocstyle          werkzeug\n",
      "asyncore            importlib_metadata  pyexpat             whatthepatch\n",
      "atexit              incremental         pyflakes            wheel\n",
      "atomicwrites        inflection          pygments            wrapt\n",
      "attr                iniconfig           pylab               wsgiref\n",
      "attrs               inspect             pylint              wurlitzer\n",
      "audioop             intake              pylint_venv         xarray\n",
      "automat             intervaltree        pyls_spyder         xdrlib\n",
      "automate_github     io                  pylsp               xlwings\n",
      "autopep8            ipaddress           pylsp_black         xml\n",
      "babel               ipykernel           pylsp_jsonrpc       xmlrpc\n",
      "backcall            ipykernel_launcher  pyodbc              xxlimited\n",
      "backports           ipython_genutils    pyparsing           xxlimited_35\n",
      "base64              isort               pyrsistent          xxsubtype\n",
      "bcrypt              isympy              pytest              yaml\n",
      "bdb                 itemadapter         pytoolconfig        yapf\n",
      "binaryornot         itemloaders         pytz                yapftests\n",
      "binascii            itertools           pyviz_comms         yarl\n",
      "binhex              itsdangerous        pywt                zict\n",
      "binstar_client      jedi                qdarkstyle          zipapp\n",
      "bisect              jellyfish           qstylizer           zipfile\n",
      "black               jinja2              qtawesome           zipimport\n",
      "blackd              jinja2_time         qtconsole           zipp\n",
      "bleach              jmespath            qtpy                zlib\n",
      "blib2to3            joblib              queue               zmq\n",
      "bokeh               json                queuelib            zoneinfo\n",
      "boltons             json5               quopri              zope\n",
      "bottleneck          jsonpatch           random              zstandard\n",
      "brotli              jsonpointer         re                  \n",
      "bs4                 jsonschema          readline            \n",
      "builtins            jupyter             regex               \n",
      "\n",
      "Enter any module name to get more help.  Or, type \"modules spam\" to search\n",
      "for modules whose name or summary contain the string \"spam\".\n",
      "\n"
     ]
    },
    {
     "name": "stderr",
     "output_type": "stream",
     "text": [
      "/Users/shrey/Desktop/Python/anaconda3/lib/python3.10/pkgutil.py:107: VisibleDeprecationWarning:\n",
      "\n",
      "zmq.eventloop.minitornado is deprecated in pyzmq 14.0 and will be removed.\n",
      "    Install tornado itself to use zmq with the tornado IOLoop.\n",
      "    \n",
      "\n"
     ]
    }
   ],
   "source": [
    "#78. Write a Python program to find the available built-in modules.\n",
    "help('modules')"
   ]
  },
  {
   "cell_type": "code",
   "execution_count": 10,
   "id": "2272bb83",
   "metadata": {},
   "outputs": [
    {
     "name": "stdout",
     "output_type": "stream",
     "text": [
      "28\n"
     ]
    }
   ],
   "source": [
    "#79. Write a Python program to get the size of an object in bytes.\n",
    "\n",
    "import sys\n",
    "\n",
    "a = sys.getsizeof(12)\n",
    "print(a)"
   ]
  },
  {
   "cell_type": "code",
   "execution_count": 15,
   "id": "f4a0f065",
   "metadata": {},
   "outputs": [
    {
     "ename": "ValueError",
     "evalue": "Exceeds the limit (4300) for integer string conversion; use sys.set_int_max_str_digits() to increase the limit",
     "output_type": "error",
     "traceback": [
      "\u001b[0;31m---------------------------------------------------------------------------\u001b[0m",
      "\u001b[0;31mValueError\u001b[0m                                Traceback (most recent call last)",
      "Cell \u001b[0;32mIn[15], line 7\u001b[0m\n\u001b[1;32m      5\u001b[0m sys\u001b[38;5;241m.\u001b[39msetrecursionlimit(\u001b[38;5;241m1000000\u001b[39m)\n\u001b[1;32m      6\u001b[0m a \u001b[38;5;241m=\u001b[39m \u001b[38;5;241m10\u001b[39m\u001b[38;5;241m*\u001b[39m\u001b[38;5;241m*\u001b[39m\u001b[38;5;241m100000\u001b[39m\n\u001b[0;32m----> 7\u001b[0m \u001b[38;5;28;43mprint\u001b[39;49m\u001b[43m(\u001b[49m\u001b[43ma\u001b[49m\u001b[43m)\u001b[49m\n",
      "\u001b[0;31mValueError\u001b[0m: Exceeds the limit (4300) for integer string conversion; use sys.set_int_max_str_digits() to increase the limit"
     ]
    }
   ],
   "source": [
    "#80. Write a Python program to get the current value of the recursion limit.\n",
    "\n",
    "import sys\n",
    "\n",
    "sys.setrecursionlimit(1000000)\n",
    "a = 10**100000\n",
    "print(a)"
   ]
  },
  {
   "cell_type": "code",
   "execution_count": 4,
   "id": "893905d4",
   "metadata": {},
   "outputs": [
    {
     "name": "stdout",
     "output_type": "stream",
     "text": [
      "Hola!\n",
      "Mi nombre es Shrey.\n"
     ]
    }
   ],
   "source": [
    "#81. Write a Python program to concatenate N strings.\n",
    "\n",
    "def concat(*args):\n",
    "    result = \"\"\n",
    "    for strings in args:\n",
    "        result += strings\n",
    "    return result\n",
    "\n",
    "#usage\n",
    "abc = [\"Hola!\", \"\\n\", \"Mi nombre es Shrey.\"]\n",
    "answer = concat(*abc)\n",
    "print(answer)"
   ]
  },
  {
   "cell_type": "code",
   "execution_count": 9,
   "id": "de201adb",
   "metadata": {},
   "outputs": [
    {
     "name": "stdout",
     "output_type": "stream",
     "text": [
      "The sum of the items in the tuple is 15\n",
      "The sum of the items in the list is 15\n",
      "The sum of the items in the set is 15\n",
      "The sum of the items in the dict is 16\n"
     ]
    }
   ],
   "source": [
    "#82. Write a Python program to calculate the sum of all items of a container (tuple, list, set, dictionary).\n",
    "\n",
    "#tuple\n",
    "def calculate_sum_tuple(container):\n",
    "    return sum(container)\n",
    "my_tuple = (1,2,3,4,5)\n",
    "sum_of_tuples = calculate_sum_tuple(my_tuple)\n",
    "print(f\"The sum of the items in the tuple is {sum_of_tuples}\")\n",
    "\n",
    "#list\n",
    "def calculate_sum_list(container):\n",
    "    return sum(container)\n",
    "my_list = [1,2,3,4,5]\n",
    "sum_of_listitems = calculate_sum_list(my_list)\n",
    "print(f\"The sum of the items in the list is {sum_of_listitems}\")\n",
    "\n",
    "#set\n",
    "def calculate_sum_set(container):\n",
    "    return sum(container)\n",
    "my_set = {1,2,3,4,5}\n",
    "sum_of_set = calculate_sum_set(my_set)\n",
    "print(f\"The sum of the items in the set is {sum_of_set}\")\n",
    "\n",
    "#dictionary\n",
    "def calculate_sum_dict(container):\n",
    "    return sum(container.values())\n",
    "my_dict = {'a': 1, 'b': 2, 'c' : 3, 'd': 4, 'e': 6}\n",
    "sum_of_dict = calculate_sum_dict(my_dict)\n",
    "print(f\"The sum of the items in the dict is {sum_of_dict}\")\n"
   ]
  },
  {
   "cell_type": "code",
   "execution_count": 17,
   "id": "3f77c9ea",
   "metadata": {},
   "outputs": [
    {
     "name": "stdout",
     "output_type": "stream",
     "text": [
      "Enter a number to check against a list of numbers: 8\n",
      "1 is less than 8\n",
      "2 is less than 8\n",
      "3 is less than 8\n",
      "4 is less than 8\n",
      "5 is less than 8\n",
      "6 is less than 8\n",
      "27 is greater than 8\n"
     ]
    }
   ],
   "source": [
    "#83. Write a Python program to test whether all numbers in a list are greater than a certain number.\n",
    "\n",
    "num = int(input(\"Enter a number to check against a list of numbers: \"))\n",
    "\n",
    "list_of_numbers = [1,2,3,4,5,6,27]\n",
    "for i in list_of_numbers:\n",
    "    if i > num:\n",
    "        print(f\"{i} is greater than {num}\")\n",
    "    else:\n",
    "        print(f\"{i} is less than {num}\")"
   ]
  },
  {
   "cell_type": "code",
   "execution_count": null,
   "id": "31a22383",
   "metadata": {},
   "outputs": [],
   "source": []
  }
 ],
 "metadata": {
  "kernelspec": {
   "display_name": "Python 3 (ipykernel)",
   "language": "python",
   "name": "python3"
  },
  "language_info": {
   "codemirror_mode": {
    "name": "ipython",
    "version": 3
   },
   "file_extension": ".py",
   "mimetype": "text/x-python",
   "name": "python",
   "nbconvert_exporter": "python",
   "pygments_lexer": "ipython3",
   "version": "3.10.9"
  }
 },
 "nbformat": 4,
 "nbformat_minor": 5
}
